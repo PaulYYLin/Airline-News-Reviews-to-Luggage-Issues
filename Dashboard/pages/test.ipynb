{
 "cells": [
  {
   "cell_type": "code",
   "execution_count": null,
   "metadata": {},
   "outputs": [
    {
     "data": {
      "text/plain": [
       "['AB Aviation', 'AIRDO', 'AJet', 'ANA All Nippon Airways', 'ASKY Airlines', 'ATA Airlines', 'Adria Airways', 'Aegean Airlines', 'Aer Lingus', 'Aero VIP', 'AeroItalia', 'Aerocaribbean', 'Aeroflot Russian Airlines', 'Aerolineas Argentinas', 'Aeromar', 'Aeromexico', 'Aerosur', 'Africa World Airlines', 'Afriqiyah Airways', 'Aigle Azur', 'Air Algerie', 'Air Antilles', 'Air Arabia', 'Air Astana', 'Air Austral', 'Air Bagan', 'Air Belgium', 'Air Berlin', 'Air Botswana', 'Air Burkina', 'Air Busan', 'Air Cairo', 'Air Canada', 'Air Canada rouge', 'Air Caraibes', 'Air China', 'Air Corsica', 'Air Costa', \"Air Cote d'Ivoire\", 'Air Djibouti', 'Air Dolomiti', 'Air Europa', 'Air France', 'Air Greenland', 'Air Iceland Connect', 'Air India', 'Air India Express', 'Air Italy', 'Air Juan', 'Air KBZ', 'Air Koryo', 'Air Labrador', 'Air Macau', 'Air Madagascar', 'Air Malawi', 'Air Malta', 'Air Mauritius', 'Air Mediterranee', 'Air Memphis', 'Air Moldova', 'Air Montenegro', 'Air Namibia', 'Air New Zealand', 'Air Niugini', \"Air North Yukon's Airline\", 'Air Nostrum', 'Air Panama', 'Air Pegasus', 'Air Premia', 'Air Rarotonga', 'Air Senegal', 'Air Serbia', 'Air Seychelles', 'Air Tahiti Nui', 'Air Tanzania', 'Air Transat', 'Air Zimbabwe', 'AirAsia', 'AirAsia India', 'AirAsia Philippines', 'AirAsia X', 'AirAsia Zest', 'AirConnect', 'AirSWIFT', 'Aircalin', 'Airlink', 'Airnorth', 'Akasa Air', 'Alaska Airlines', 'Alitalia', 'Allegiant Air', 'Alliance Air', 'Alliance Airlines', 'Amaszonas', 'American Airlines', 'American Eagle', 'AnadoluJet', 'Andes Líneas Aéreas', 'Arajet', 'Ariana Afghan Airlines', 'Arik Air', 'Arkefly', 'Armenia Air Company', 'Armenian Airlines', 'Asiana Airlines', 'Atlantic Airways', 'Auric Air', 'Aurigny Air', 'Austrian Airlines', 'Avelo Airlines', 'Avianca', 'Avior Airlines', 'Azerbaijan Airlines', 'Azur Air Germany', 'BA CityFlyer', 'Badr Airlines', 'Bahamasair', 'Bamboo Airways', 'Bangkok Airways', 'Bassaka Air', 'Batik Air', 'Beijing Capital Airlines', 'Belavia', 'Berjaya Air', 'Bhutan Airlines', 'Binter Canarias', 'Blue Air', 'Blue Islands', 'Blue Panorama Airlines', 'Blue1', 'Bluebird Airways', 'BoraJet', 'Boutique Air', 'Breeze Airways', 'British Airways', 'Brussels Airlines', 'Buddha Air', 'Bulgaria Air', 'Buta Airways', 'CSA Czech Airlines', 'Camair-Co', 'Cambodia Airways', 'Cambodia Bayon Airlines', 'Canadian North', 'Canaryfly', 'Cape Air', 'Caribbean Airlines', 'Carpatair', 'Cathay Dragon', 'Cathay Pacific Airways', 'Cayman Airways', 'Cebu Pacific', 'CemAir', 'Central Mountain Air', 'China Airlines', 'China Eastern Airlines', 'China Southern Airlines', 'China United Airlines', 'Citilink', 'CityJet', 'Coastal Aviation', 'Cobalt', 'Comair', 'Condor Airlines', 'Contour Airlines', 'Conviasa', 'Copa Airlines', 'Corendon Airlines', 'Corsair', 'Croatia Airlines', 'Cubana Airlines', 'Cyprus Airways', 'Delta Air Lines', 'Dimonim Air', 'Discover Airlines', 'Dniproavia', 'Dragonair', 'Druk Air', 'Dynamic International Airways', 'EVA Air', 'EWA Air', 'Eastern Airlines', 'Eastern Airways', 'Easyfly', 'Edelweiss Air', 'Egyptair', 'El Al Israel Airlines', 'Ellinair', 'Emirates', 'Eritrean Airlines', 'Ernest Airlines', 'Estonian Air', 'Eswatini Air', 'Ethiopian Airlines', 'Etihad Airways', 'Europe Airpost', 'Eurowings', 'Evelop Airlines', 'FLYONE', 'FMI Air', 'Felix Airways', 'Fiji Airways', 'Finnair', 'Firefly', 'Flair Airlines', 'Fly540.com', 'FlyArystan', 'FlyGabon', 'FlySafair', 'Flynas', 'French Bee', 'Frontier Airlines', 'Fuji Dream Airlines', 'Garuda Indonesia', 'Georgian Airways', 'Germania Airline', 'Germanwings', 'Go First', 'GoAir', 'Golden Myanmar Airlines', 'Grand Cru Airlines', 'Greater Bay Airlines', 'Gulf Air', 'HOP!', 'Hainan Airlines', 'Hawaiian Airlines', 'Henan Airlines', 'Hi Fly', 'HiSky', 'Himalaya Airlines', 'Hong Kong Airlines', 'Horizon Air', 'Hunnu Air', 'ITA Airways', 'Iberia', 'Iberia Express', 'Iberojet', 'Icelandair', 'Insel Air', 'InterSky', 'Intercaribbean Airways', 'Interjet', 'Iran Air', 'Iraqi Airways', 'Israir Airlines', 'JC International Airlines', 'Jambojet', 'Japan Airlines', 'Jazeera Airways', 'Jazz', 'Jeju Air', 'Jet Airways', 'Jet2.com', 'JetSmart', 'Jetairfly', 'Jetblue Airways', 'Jetstar Airways', 'Jetstar Asia', 'Jetstar Japan', 'Jetstar Pacific', 'JetsuiteX', 'Jin Air', 'Joon', 'Jordan Aviation', 'KD Air', 'KLM Royal Dutch Airlines', 'KM Malta Airlines', 'Kam Air', 'Kan Air', 'Karthago Airlines', 'Kenya Airways', 'Korean Air', 'Kulula', 'Kuwait Airways', 'LAN Airlines', 'LAN Colombia', 'LAN Peru', 'LATAM Airlines', 'LC Perú', 'LIAT', 'LOT Polish Airlines', 'La Compagnie', 'Lao Airlines', 'Laudamotion', 'Level', 'Libyan Airlines', 'Lion Air', 'Loch Lomond Seaplanes', 'Loganair', 'Lubeck Air', 'Lucky Air', 'Lufthansa', 'Luxair', 'Lynx Air', 'MAYAir', 'MEGA Maldives Airlines', 'Mack Air', 'Madagasikara Airways', 'Mahan Air', 'Malawian Airlines', 'Malaysia Airlines', 'Maldivian', 'Malindo Air', 'Mandarin Airlines', 'Mann Yadanarpon Airlines', 'Manta Air', 'Martinair', 'Mauritania Airlines', 'Maya Island Air', 'Meridiana', 'Mihin Lanka', 'Mokulele Airlines', 'Moldavian Airlines', 'Monarch Airlines', 'Montenegro Airlines', 'Motor Sich Airlines', 'Myanmar Airways', 'Myanmar National Airlines', 'NAM Air', 'NIKI', 'Nature Air', 'Nauru Airlines', 'Nepal Airlines', 'New Pacific Airlines', 'NextJet', 'Nile Air', 'Nok Air', 'NokScoot', 'NordStar', 'Nordavia', 'Nordic Regional Airlines', 'Nordica', 'Nordwind Airlines', 'Norse Atlantic Airways', 'Norwegian', 'Nouvelair', 'Novair', 'Novoair', 'Okay Airways', 'Olympic Air', 'Oman Air', 'Omni Air International', 'Onur Air', 'Openskies', 'PAL Express', 'PAWA Dominicana', 'PLAY', 'Pacific Airlines', 'Pan Pacific Airlines', 'Passion Air', 'Peach Aviation', 'Pegasus Airlines', 'Pelita Air', 'PenAir', 'Peruvian Airlines', 'Petroleum Air Services', 'Philippine Airlines', 'Phuket Air', 'Pobeda Airlines', 'Porter Airlines', 'Primera Air', 'Privilege Style', 'Qantas Airways', 'QantasLink', 'Qatar Airways', 'Qazaq Air', 'Ravn Alaska', 'Red Wings Airlines', 'Regent Airways', 'Regional Express', 'Rex Airlines', 'Rhein-Neckar Air', 'Rossiya Airlines', 'Royal Air Maroc', 'Royal Brunei Airlines', 'Royal Jordanian Airlines', 'Rwandair', 'Ryanair', 'S7 Siberia Airlines', 'SA Express', 'SATA Air Azores', 'SATENA', 'SCAT Airlines', 'STARLUX Airlines', 'SVG Air', 'Safarilink', 'Safi Airways', 'Salam Air', 'Sansa Airlines', 'Saudi Arabian Airlines', 'Scoot', 'Seaborne Airlines', 'SereneAir', 'Shaheen Air', 'Shandong Airlines', 'Shanghai Airlines', 'Shenzhen Airlines', 'Sichuan Airlines', 'SilkAir', 'Silver Airways', 'Singapore Airlines', 'Sky Airline', 'Sky Express Airlines', 'SkyUp Airlines', 'SkyWest Airlines', 'SkyWork Airlines', 'Skybus', 'Skymark Airlines', 'Skytrans Airlines', 'SmartLynx Airlines', 'SmartWings', 'Smartavia', 'Sol Líneas Aéreas', 'Solomon Airlines', 'Somon Air', 'South African Airways', 'Southern Airways Express', 'Southwest Airlines', 'SpiceJet', 'Spirit Airlines', 'SriLankan Airlines', 'Sriwijaya Air', 'StarFlyer', 'Sudan Airways', 'Sun Country Airlines', 'Sun-Air', 'Sunwing Airlines', 'Suparna Airlines', 'Super Air Jet', 'Surinam Airways', 'Swoop', 'SyrianAir', \"T'Way Air\", 'TAAG Angola Airlines', 'TACA Regional', 'TAG Airlines', 'TAM Airlines', 'TAME', 'TAP Portugal', 'TAR Aerolineas', 'TUI Airways', 'TUIfly', 'TUIfly Nordic', 'TUS Airways', 'Tailwind Airlines', 'Tame Línea Aérea Del Ecuador', 'Tara Air', 'Thai AirAsia', 'Thai Airways', 'Thai Lion Air', 'Thai Smile Airways', 'Thomas Cook Airlines', 'Thomas Cook Airlines Scandinavia', 'Thomson Airways', 'Tianjin Airlines', 'Tibet Airlines', 'Tigerair', 'Tigerair Australia', 'Tigerair Taiwan', 'Titan Airways', 'TransAsia Airways', 'TransNusa', 'Transaero Airlines', 'Transavia', 'Trigana Air', 'Tropic Air Belize', 'Tunisair', 'Turkish Airlines', 'Turkmenistan Airlines', 'UP by El Al', 'US Airways', 'US-Bangla Airlines', 'Uganda Airlines', 'Ultra Air', 'United Airlines', 'Ural Airlines', 'Utair Aviation', 'Uzbekistan Airways', 'V Air', 'VLM Airlines', 'Vanilla Air', 'ViaAir', 'Vietnam Airlines', 'Virgin America', 'Virgin Australia', 'Vistara', 'Viva Air', 'VivaAerobús', 'VivaColombia', 'Volaris', 'Volotea', 'Voyage Air', 'Vueling Airlines', 'WOW air', 'Wamos Air', 'Wideroe', 'Winair', 'Wingo', 'Wings Air', 'Wizz Air', 'World2Fly', 'XL Airways France', 'Xiamen Airlines', 'Yakutia Airlines', 'Yangon Airways', 'Yemenia', 'Yeti Airlines', 'ZIPAIR', 'Zambia Airways', 'airBaltic', 'bmi Regional', 'easyJet', 'euroAtlantic Airways', 'fastjet', 'flyadeal', 'flybe', 'flybondi', 'flydubai']\n"
      ]
     },
     "metadata": {},
     "output_type": "display_data"
    }
   ],
   "source": [
    "import pandas as pd\n",
    "import numpy as np\n",
    "import altair as alt\n",
    "\n",
    "# read the data into the file\n",
    "wtf = pd.read_csv(\"/Users/kellyw/Documents/GitHub/Airline-News-Reviews-to-Luggage-Issues/data/silver_airline_quality_reviews.csv\")\n",
    "\n",
    "# set up selection box\n",
    "\n",
    "wtf_sorted = wtf.sort_values(by=['Airline Name'])\n",
    "airline_list = list(wtf_sorted['Airline Name'].unique())\n",
    "\n",
    "print(airline_list)"
   ]
  },
  {
   "cell_type": "code",
   "execution_count": null,
   "metadata": {},
   "outputs": [],
   "source": [
    "wtf['Overall_Rating'] = pd.to_numeric(wtf['Overall_Rating'], errors='coerce')"
   ]
  },
  {
   "cell_type": "code",
   "execution_count": null,
   "metadata": {},
   "outputs": [
    {
     "data": {
      "text/plain": [
       "3.67\n"
      ]
     },
     "metadata": {},
     "output_type": "display_data"
    }
   ],
   "source": [
    "huh = np.round(np.mean(((wtf[wtf['Airline Name'] == 'AB Aviation']['Overall_Rating']))), 2)\n",
    "\n",
    "print(huh)"
   ]
  },
  {
   "cell_type": "code",
   "execution_count": null,
   "metadata": {},
   "outputs": [
    {
     "data": {
      "text/plain": [
       "                  airline  avg_rating\n",
       "0             AB Aviation    3.666667\n",
       "1                   AIRDO    9.000000\n",
       "2                    AJet    2.571429\n",
       "3  ANA All Nippon Airways    7.430000\n",
       "4           ASKY Airlines    2.739130\n"
      ]
     },
     "metadata": {},
     "output_type": "display_data"
    }
   ],
   "source": [
    "# create a new dataframe with all the average ratings of each airline?\n",
    "\n",
    "airline_rating_dict = {\n",
    "    \"airline\": [],\n",
    "    \"avg_rating\": []\n",
    "}\n",
    "\n",
    "for i in airline_list:\n",
    "    avg_rate = np.round(np.mean(((wtf[wtf['Airline Name'] == i]['Overall_Rating']))), 6)\n",
    "    airline_rating_dict['airline'].append(i)\n",
    "    airline_rating_dict['avg_rating'].append(avg_rate)\n",
    "\n",
    "airline_rating_df = pd.DataFrame(airline_rating_dict)\n",
    "\n",
    "print(airline_rating_df.head())"
   ]
  },
  {
   "cell_type": "code",
   "execution_count": null,
   "metadata": {},
   "outputs": [
    {
     "data": {
      "text/plain": [
       "(518, 2)\n"
      ]
     },
     "metadata": {},
     "output_type": "display_data"
    }
   ],
   "source": [
    "airline_rating_df.shape"
   ]
  },
  {
   "cell_type": "code",
   "execution_count": null,
   "metadata": {},
   "outputs": [],
   "source": [
    "airline_select = 'AB Aviation'"
   ]
  },
  {
   "cell_type": "code",
   "execution_count": null,
   "metadata": {},
   "outputs": [
    {
     "data": {
      "text/plain": [
       "0    3.666667\n",
       "Name: avg_rating, dtype: float64\n"
      ]
     },
     "metadata": {},
     "output_type": "display_data"
    }
   ],
   "source": [
    "airline_selected_avg = airline_rating_df[airline_rating_df['airline'] == airline_select]['avg_rating']\n",
    "\n",
    "print(airline_selected_avg)"
   ]
  },
  {
   "cell_type": "code",
   "execution_count": null,
   "metadata": {},
   "outputs": [
    {
     "data": {
      "text/plain": [
       "                airline  avg_rating\n",
       "0  Madagasikara Airways        10.0\n",
       "1             JetsuiteX        10.0\n",
       "2             Auric Air        10.0\n",
       "3            Lubeck Air        10.0\n",
       "4         Air Rarotonga        10.0\n",
       "5      Rhein-Neckar Air        10.0\n",
       "6               FMI Air        10.0\n",
       "7    Grand Cru Airlines        10.0\n",
       "8               Sun-Air        10.0\n",
       "9              Tara Air         9.5\n"
      ]
     },
     "metadata": {},
     "output_type": "display_data"
    }
   ],
   "source": [
    "airline_rating_df = airline_rating_df.sort_values(by=['avg_rating'], ascending=False).reset_index(drop=True)\n",
    "print(airline_rating_df.head(10))"
   ]
  },
  {
   "cell_type": "code",
   "execution_count": null,
   "metadata": {},
   "outputs": [
    {
     "data": {
      "text/plain": [
       "9\n"
      ]
     },
     "metadata": {},
     "output_type": "display_data"
    }
   ],
   "source": [
    "index_value = airline_rating_df.loc[airline_rating_df['airline'] == 'Sun-Air'].index[0] + 1\n",
    "\n",
    "print(index_value)\n"
   ]
  },
  {
   "cell_type": "code",
   "execution_count": null,
   "metadata": {},
   "outputs": [
    {
     "data": {
      "text/plain": [
       "0    positive\n",
       "1    negative\n",
       "2     neutral\n",
       "Name: sentiment_label, dtype: object\n"
      ]
     },
     "metadata": {},
     "output_type": "display_data"
    }
   ],
   "source": [
    "print(wtf[wtf['Airline Name'] == airline_select]['sentiment_label'])\n"
   ]
  },
  {
   "cell_type": "code",
   "execution_count": null,
   "metadata": {},
   "outputs": [],
   "source": [
    "def category_ratings(airline):\n",
    "    list_cats = [\"Seat Comfort\", \"Cabin Staff Service\", \"Food & Beverages\", \"Ground Service\", \"Inflight Entertainment\",\t\"Wifi & Connectivity\", \"Value For Money\"]\n",
    "    list_cats_avg = list()\n",
    "    for i in list_cats:\n",
    "         sheesh = wtf[wtf['Airline Name'] == airline][i]\n",
    "         avg = np.mean(sheesh)\n",
    "         list_cats_avg.append(avg)\n",
    "    cat_dict = {\n",
    "         'Category': list_cats,\n",
    "         'Avg_rating': list_cats_avg\n",
    "    }\n",
    "    cat_df = pd.DataFrame(cat_dict)\n",
    "    cat_df = cat_df.sort_values(by=['Avg_rating'], ascending=False)\n",
    "    \n",
    "    plot =alt.Chart(cat_df).mark_bar().encode(\n",
    "        x=alt.X('Category:N', sort='-y'),  # Sort categories by Avg_rating descending\n",
    "        y=alt.Y('Avg_rating:Q')  # Treat Avg_rating as a quantitative variable\n",
    "        )\n",
    "\n",
    "    return plot"
   ]
  },
  {
   "cell_type": "code",
   "execution_count": null,
   "metadata": {},
   "outputs": [],
   "source": [
    "hello = category_ratings('AB Aviation')"
   ]
  },
  {
   "cell_type": "code",
   "execution_count": null,
   "metadata": {},
   "outputs": [
    {
     "data": {
      "text/plain": [
       "alt.Chart(...)\n"
      ]
     },
     "metadata": {},
     "output_type": "display_data"
    }
   ],
   "source": [
    "print(hello)"
   ]
  },
  {
   "cell_type": "code",
   "execution_count": null,
   "metadata": {},
   "outputs": [],
   "source": [
    "def overall_sent(airline):\n",
    "    all_sents = wtf[wtf['Airline Name'] == airline]['sentiment_label']\n",
    "    total_reviews = len(all_sents)\n",
    "    neutrals = 0\n",
    "    positives = 0\n",
    "    negatives = 0\n",
    "\n",
    "    for sent in all_sents:\n",
    "        if sent == 'positive':\n",
    "            positives+=1\n",
    "        elif sent == 'negative':\n",
    "            negatives+=1\n",
    "        elif sent == 'netural':\n",
    "            neutrals+=1\n",
    "\n",
    "    pos_percentage = positives/total_reviews if total_reviews > 0 else 0\n",
    "    neg_percentage = negatives/total_reviews if total_reviews > 0 else 0\n",
    "    neu_percentage = neutrals/total_reviews if total_reviews > 0 else 0\n",
    "\n",
    "    sentiment_percent = {\n",
    "        \"positive\": pos_percentage,\n",
    "        \"neutral\": neu_percentage,\n",
    "        \"negative\": neg_percentage,\n",
    "    }\n",
    "    \n",
    "    sentiment_sorted = sorted(sentiment_percent, key=sentiment_percent.get, reverse=True) # sorts in descending order (highest to lowest)\n",
    "    print(sentiment_percent)\n",
    "    # handle ties by going positive > neutral > negative \n",
    "    return sentiment_sorted[0]"
   ]
  },
  {
   "cell_type": "code",
   "execution_count": null,
   "metadata": {},
   "outputs": [
    {
     "data": {
      "text/plain": [
       "{'positive': 0.11, 'neutral': 0.0, 'negative': 0.76}\n",
       "negative\n"
      ]
     },
     "metadata": {},
     "output_type": "display_data"
    }
   ],
   "source": [
    "overall_sent('Delta Air Lines')"
   ]
  },
  {
   "cell_type": "code",
   "execution_count": null,
   "metadata": {},
   "outputs": [],
   "source": []
  }
 ],
 "metadata": {
  "language_info": {
   "name": "python"
  }
 },
 "nbformat": 4,
 "nbformat_minor": 2
}
