{
 "cells": [
  {
   "cell_type": "code",
   "execution_count": null,
   "id": "19499552-09ca-4d62-9b6b-71e456ecabf0",
   "metadata": {},
   "outputs": [],
   "source": [
    "pip install psycopg2-binary"
   ]
  },
  {
   "cell_type": "code",
   "execution_count": null,
   "id": "debdb27c-c5d0-4faf-bc63-3200a28ad573",
   "metadata": {},
   "outputs": [],
   "source": [
    "import sqlalchemy\n",
    "import pandas as pd\n",
    "import psycopg2\n",
    "from sqlalchemy import create_engine, inspect\n",
    "\n",
    "\n",
    "#Connect to RDS\n",
    "conf ={\n",
    "    'host':\"data608project-postgresql.cti8i5zrv6mp.us-east-1.rds.amazonaws.com\",\n",
    "    'port':'5432',\n",
    "    'database':\"data608project-postgresql\",\n",
    "    'user':\"postgres\",\n",
    "    'password':\"Data608projectbigdata\"\n",
    "}\n",
    "\n",
    "engine = create_engine(\"postgresql://{user}:{password}@{host}:{port}/{user}\".format(**conf))\n",
    "\n",
    "#create new dataframe\n",
    "df = pd.DataFrame({'A':[1,2,3], 'B':[4,5,6]})\n",
    "df.to_sql('testTable', engine, index=False, if_exists='replace')\n",
    "\n",
    "\n",
    "#inspect whats on the RDS\n",
    "inspector = inspect(engine)\n",
    "tables = inspector.get_table_names()\n",
    "print(tables)\n",
    "\n",
    "\n",
    "#take a look at the table\n",
    "sql=\"\"\"\n",
    "SELECT * FROM \"testTable\"\n",
    "\"\"\"\n",
    "df_back = pd.read_sql_query(sql, engine)\n",
    "print(df_back)\n",
    "\n",
    "\n",
    "#create some new data and append it to the table\n",
    "df = pd.DataFrame({'A':[7,8,9], 'B':[10,11,12]})\n",
    "df.to_sql('testTable', engine, index=False, if_exists='append')\n",
    "\n",
    "\n",
    "#take a look at the new table\n",
    "sql=\"\"\"\n",
    "SELECT * FROM \"testTable\"\n",
    "\"\"\"\n",
    "df_back = pd.read_sql_query(sql, engine)\n",
    "print(df_back)"
   ]
  },
  {
   "cell_type": "code",
   "execution_count": null,
   "id": "2b3478a3-6285-4100-9251-16639cca4e45",
   "metadata": {},
   "outputs": [],
   "source": [
    "#if encounter error with psycopg2: pip install psycopg2-binary\n",
    "import sqlalchemy\n",
    "import pandas as pd\n",
    "import psycopg2\n",
    "from sqlalchemy import create_engine, inspect\n",
    "\n",
    "\n",
    "#Connect to RDS\n",
    "conf ={\n",
    "    'host':\"data608project-postgresql.cti8i5zrv6mp.us-east-1.rds.amazonaws.com\",\n",
    "    'port':'5432',\n",
    "    'database':\"data608project-postgresql\",\n",
    "    'user':\"postgres\",\n",
    "    'password':\"Data608projectbigdata\"\n",
    "}\n",
    "\n",
    "engine = create_engine(\"postgresql://{user}:{password}@{host}:{port}/{user}\".format(**conf))\n",
    "\n",
    "#inspect whats on the RDS\n",
    "inspector = inspect(engine)\n",
    "tables = inspector.get_table_names()\n",
    "print(tables)"
   ]
  }
 ],
 "metadata": {
  "kernelspec": {
   "display_name": "Python [conda env:base] *",
   "language": "python",
   "name": "conda-base-py"
  },
  "language_info": {
   "codemirror_mode": {
    "name": "ipython",
    "version": 3
   },
   "file_extension": ".py",
   "mimetype": "text/x-python",
   "name": "python",
   "nbconvert_exporter": "python",
   "pygments_lexer": "ipython3",
   "version": "3.12.7"
  }
 },
 "nbformat": 4,
 "nbformat_minor": 5
}
