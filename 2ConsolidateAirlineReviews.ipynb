{
 "cells": [
  {
   "cell_type": "code",
   "execution_count": null,
   "id": "19499552-09ca-4d62-9b6b-71e456ecabf0",
   "metadata": {},
   "outputs": [],
   "source": [
    "#pip install psycopg2-binary"
   ]
  },
  {
   "cell_type": "code",
   "execution_count": 6,
   "id": "b5a0835a-4afc-491c-86a6-ad8eb2d4555a",
   "metadata": {},
   "outputs": [],
   "source": [
    "import pandas as pd\n",
    "import psycopg2"
   ]
  },
  {
   "cell_type": "code",
   "execution_count": 88,
   "id": "0a6c1c0b-fca7-456a-b700-0e694143d369",
   "metadata": {},
   "outputs": [],
   "source": [
    "DB=\"postgres\"\n",
    "USER=\"postgres\"\n",
    "PWD=\"Data608projectbigdata\"\n",
    "HOST=\"data608project-postgresql.cti8i5zrv6mp.us-east-1.rds.amazonaws.com\"\n",
    "PORT=5432"
   ]
  },
  {
   "cell_type": "code",
   "execution_count": 90,
   "id": "d22b377c-223f-4f6d-90ff-492a73904bc6",
   "metadata": {},
   "outputs": [
    {
     "name": "stdout",
     "output_type": "stream",
     "text": [
      "Table 'silver.consolidated_airline_reviews' dropped successfully.\n",
      "Table 'silver.consolidated_airline_reviews' created successfully.\n"
     ]
    }
   ],
   "source": [
    "try:\n",
    "    # Connect to the PostgreSQL database\n",
    "    connection = psycopg2.connect(\n",
    "        dbname=DB,\n",
    "        user=USER,\n",
    "        password=PWD,\n",
    "        host=HOST,\n",
    "        port=PORT\n",
    "    )\n",
    "    \n",
    "    cursor = connection.cursor()\n",
    "    \n",
    "    cursor.execute(\"\"\"\n",
    "                DROP TABLE IF EXISTS \"silver.consolidated_airline_reviews\";\n",
    "                \"\"\")\n",
    "            \n",
    "    connection.commit()\n",
    "    print(f\"Table 'silver.consolidated_airline_reviews' dropped successfully.\")\n",
    "\n",
    "\n",
    "\n",
    "    cursor = connection.cursor()\n",
    "    \n",
    "    # Create the users table\n",
    "    cursor.execute(\"\"\"\n",
    "        CREATE TABLE IF NOT EXISTS \"silver.consolidated_airline_reviews\" (\n",
    "    \tairline_review_id SERIAL PRIMARY KEY,\n",
    "        \"airline_name\" varchar(255) NOT NULL,\n",
    "    \t\"rating_overall\" float8 NULL,\n",
    "    \t\"review_title\" varchar(1000) NOT NULL,\n",
    "    \t\"review_date\" timestamp NOT NULL,\n",
    "    \t\"verified\" bool NULL,\n",
    "    \t\"review_text\" text NOT NULL,\n",
    "    \t\"aircraft\" varchar(255) NULL,\n",
    "    \t\"type_of_traveller\" varchar(255) NULL,\n",
    "    \t\"seat_type\" varchar(255) NULL,\n",
    "    \t\"route\" varchar(1000) NULL,\n",
    "    \t\"flight_date\" timestamp NULL,\n",
    "    \t\"rating_seat_comfort\" float8 NULL,\n",
    "    \t\"rating_cabin_staff_service\" float8 NULL,\n",
    "    \t\"rating_food_and_beverages\" float8 NULL,\n",
    "    \t\"rating_ground_service\" float8 NULL,\n",
    "    \t\"rating_inflight_entertainment\" float8 NULL,\n",
    "    \t\"rating_wifi_and_connectivity\" float8 NULL,\n",
    "    \t\"rating_value_for_money\" float8 NULL,\n",
    "    \t\"recommended\" bool NULL,\n",
    "        created_by varchar(100) NOT NULL,\n",
    "        created_date timestamp NOT NULL DEFAULT CURRENT_TIMESTAMP,\n",
    "        lastmodified_by varchar(100) NOT NULL,\n",
    "        lastmodified_date timestamp NOT NULL DEFAULT CURRENT_TIMESTAMP   \n",
    "    );\n",
    "    \"\"\")\n",
    "    connection.commit()\n",
    "    print(\"Table 'silver.consolidated_airline_reviews' created successfully.\")\n",
    "\n",
    "except (Exception, psycopg2.Error) as error:\n",
    "    print(\"Error during drop-create operation:\", error)\n",
    "finally:\n",
    "    if connection:\n",
    "        cursor.close()\n",
    "        connection.close()"
   ]
  },
  {
   "cell_type": "code",
   "execution_count": null,
   "id": "94a8cfac-51f4-4202-8711-010bbf621183",
   "metadata": {},
   "outputs": [],
   "source": []
  },
  {
   "cell_type": "code",
   "execution_count": 93,
   "id": "96264292-8ff5-4fa8-9783-7b84753d792c",
   "metadata": {},
   "outputs": [
    {
     "name": "stdout",
     "output_type": "stream",
     "text": [
      "Inserted to \"silver.consolidated_airline_reviews\" successfully\n"
     ]
    }
   ],
   "source": [
    "try:\n",
    "    # Connect to the PostgreSQL database\n",
    "    connection = psycopg2.connect(\n",
    "        dbname=DB,\n",
    "        user=USER,\n",
    "        password=PWD,\n",
    "        host=HOST,\n",
    "        port=PORT\n",
    "    )\n",
    "\n",
    "    cursor = connection.cursor()\n",
    "    \n",
    "    # Create the users table\n",
    "    cursor.execute(\"\"\"\n",
    "        INSERT INTO \"silver.consolidated_airline_reviews\" \n",
    "        (\n",
    "            airline_name,\n",
    "        \trating_overall,\n",
    "        \treview_title,\n",
    "        \treview_date,\n",
    "        \tverified,\n",
    "        \treview_text,\n",
    "            aircraft,\n",
    "        \ttype_of_traveller,\n",
    "        \tseat_type,\n",
    "        \troute,\n",
    "        \tflight_date,\n",
    "        \trating_seat_comfort,\n",
    "        \trating_cabin_staff_service,\n",
    "        \trating_food_and_beverages,\n",
    "        \trating_ground_service,\n",
    "        \trating_inflight_entertainment,\n",
    "        \trating_wifi_and_connectivity,\n",
    "        \trating_value_for_money,\n",
    "        \trecommended,\n",
    "            created_by,\n",
    "            created_date,\n",
    "            lastmodified_by,\n",
    "            lastmodified_date           \n",
    "        )\n",
    "        SELECT\n",
    "            CAST(\"Airline Name\" AS varchar(255)) AS airline_name,\n",
    "        \tCASE WHEN \"Overall_Rating\" = 'n' THEN NULL ELSE CAST(\"Overall_Rating\" AS float8) END AS rating_overall,\n",
    "        \tCAST(\"Review_Title\" AS varchar(1000)) AS review_title,\n",
    "            CAST(\"Review_Date\" AS timestamp) AS review_date,\n",
    "        \tCAST(\"Verified\" AS bool) AS verified,\n",
    "        \tCAST(\"Review\" AS text) AS review_text,\n",
    "            CAST(\"Aircraft\" AS varchar(255)) AS aircraft,\n",
    "        \tCAST(\"Type Of Traveller\" AS varchar(255)) AS type_of_traveller,\n",
    "        \tCAST(\"Seat Type\" AS varchar(255)) AS seat_type,\n",
    "        \tCAST(\"Route\" AS varchar(1000)) AS route,\n",
    "        \tCAST(\"Flight_Date\" AS timestamp) AS flight_date,\n",
    "        \tCAST(\"Seat Comfort\" AS float8) AS rating_seat_comfort,\n",
    "        \tCAST(\"Cabin Staff Service\" AS float8) AS rating_cabin_staff_service,\n",
    "        \tCAST(\"Food & Beverages\" AS float8) AS rating_food_and_beverages,\n",
    "        \tCAST(\"Ground Service\" AS float8) AS rating_ground_service,\n",
    "        \tCAST(\"Inflight Entertainment\" AS float8) AS rating_inflight_entertainment,\n",
    "        \tCAST(\"Wifi & Connectivity\" AS float8) AS rating_wifi_and_connectivity,\n",
    "        \tCAST(\"Value For Money\" AS float8) AS rating_value_for_money,\n",
    "        \tCAST(\"Recommended\" AS bool) AS recommended,\n",
    "            'From_Kaggle' AS created_by,\n",
    "            CURRENT_TIMESTAMP AS created_date,\n",
    "            'From_Kaggle' AS lastmodified_by,\n",
    "            CURRENT_TIMESTAMP AS lastmodified_date\n",
    "        FROM \"bronze.kaggle_airline_reviews\"\n",
    "    \"\"\")\n",
    "    connection.commit()\n",
    "    print('Inserted to \"silver.consolidated_airline_reviews\" successfully')\n",
    "\n",
    "except (Exception, psycopg2.Error) as error:\n",
    "    print(\"Error during insert operation:\", error)\n",
    "finally:\n",
    "    if connection:\n",
    "        cursor.close()\n",
    "        connection.close()"
   ]
  },
  {
   "cell_type": "code",
   "execution_count": null,
   "id": "425c6975-8a70-4296-b771-7f80c7e6a61e",
   "metadata": {},
   "outputs": [],
   "source": []
  },
  {
   "cell_type": "code",
   "execution_count": 106,
   "id": "1d99585a-b99e-407d-9d4d-9e704c09fda5",
   "metadata": {},
   "outputs": [
    {
     "name": "stdout",
     "output_type": "stream",
     "text": [
      "   airline_review_id   airline_name  rating_overall  \\\n",
      "0                  1    AB Aviation             9.0   \n",
      "1                  2    AB Aviation             1.0   \n",
      "2                  3    AB Aviation             1.0   \n",
      "3                  4  Adria Airways             1.0   \n",
      "4                  5  Adria Airways             1.0   \n",
      "\n",
      "                            review_title review_date  verified  \\\n",
      "0                \"pretty decent airline\"  2019-11-11      True   \n",
      "1                   \"Not a good airline\"  2019-06-25      True   \n",
      "2         \"flight was fortunately short\"  2019-06-25      True   \n",
      "3    \"I will never fly again with Adria\"  2019-09-28     False   \n",
      "4  \"it ruined our last days of holidays\"  2019-09-24      True   \n",
      "\n",
      "                                         review_text       aircraft  \\\n",
      "0    Moroni to Moheli. Turned out to be a pretty ...           None   \n",
      "1   Moroni to Anjouan. It is a very small airline...           E120   \n",
      "2    Anjouan to Dzaoudzi. A very small airline an...  Embraer E120    \n",
      "3    Please do a favor yourself and do not fly wi...           None   \n",
      "4   Do not book a flight with this airline! My fr...           None   \n",
      "\n",
      "  type_of_traveller      seat_type  ... rating_food_and_beverages  \\\n",
      "0      Solo Leisure  Economy Class  ...                       4.0   \n",
      "1      Solo Leisure  Economy Class  ...                       1.0   \n",
      "2      Solo Leisure  Economy Class  ...                       1.0   \n",
      "3      Solo Leisure  Economy Class  ...                       NaN   \n",
      "4    Couple Leisure  Economy Class  ...                       1.0   \n",
      "\n",
      "  rating_ground_service  rating_inflight_entertainment  \\\n",
      "0                   4.0                            NaN   \n",
      "1                   1.0                            NaN   \n",
      "2                   1.0                            NaN   \n",
      "3                   1.0                            NaN   \n",
      "4                   1.0                            1.0   \n",
      "\n",
      "   rating_wifi_and_connectivity  rating_value_for_money  recommended  \\\n",
      "0                           NaN                     3.0         True   \n",
      "1                           NaN                     2.0        False   \n",
      "2                           NaN                     2.0        False   \n",
      "3                           NaN                     1.0        False   \n",
      "4                           1.0                     1.0        False   \n",
      "\n",
      "    created_by               created_date  lastmodified_by  \\\n",
      "0  From_Kaggle 2025-03-14 01:00:38.393385      From_Kaggle   \n",
      "1  From_Kaggle 2025-03-14 01:00:38.393385      From_Kaggle   \n",
      "2  From_Kaggle 2025-03-14 01:00:38.393385      From_Kaggle   \n",
      "3  From_Kaggle 2025-03-14 01:00:38.393385      From_Kaggle   \n",
      "4  From_Kaggle 2025-03-14 01:00:38.393385      From_Kaggle   \n",
      "\n",
      "           lastmodified_date  \n",
      "0 2025-03-14 01:00:38.393385  \n",
      "1 2025-03-14 01:00:38.393385  \n",
      "2 2025-03-14 01:00:38.393385  \n",
      "3 2025-03-14 01:00:38.393385  \n",
      "4 2025-03-14 01:00:38.393385  \n",
      "\n",
      "[5 rows x 24 columns]\n",
      "23171\n"
     ]
    }
   ],
   "source": [
    "results = None\n",
    "colnames = None\n",
    "\n",
    "try:\n",
    "    # Connect to the PostgreSQL database\n",
    "    connection = psycopg2.connect(\n",
    "        dbname=DB,\n",
    "        user=USER,\n",
    "        password=PWD,\n",
    "        host=HOST,\n",
    "        port=PORT\n",
    "    )\n",
    "\n",
    "    cursor = connection.cursor()\n",
    "    \n",
    "    query = 'SELECT * FROM \"silver.consolidated_airline_reviews\"'\n",
    "     \n",
    "    cursor.execute(query)\n",
    "     \n",
    "    results = cursor.fetchall()\n",
    "\n",
    "    # Get the column names\n",
    "    colnames = [desc[0] for desc in cursor.description]\n",
    "\n",
    "    # Convert the results to a pandas DataFrame\n",
    "    df = pd.DataFrame(results, columns=colnames)\n",
    "\n",
    "except (Exception, psycopg2.Error) as error:\n",
    "    print(\"Error during select operation:\", error)\n",
    "finally:\n",
    "    if connection:\n",
    "        cursor.close()\n",
    "        connection.close()\n",
    "\n",
    "print(df.head())\n",
    "print(len(df))"
   ]
  },
  {
   "cell_type": "code",
   "execution_count": null,
   "id": "c4ef99e6-f522-4925-8e3d-94efa359df34",
   "metadata": {},
   "outputs": [],
   "source": []
  },
  {
   "cell_type": "markdown",
   "id": "7cf1f734-b869-4fae-8939-54d85e2bfd3e",
   "metadata": {},
   "source": [
    "#### Upload Dataframe to Databricks volume"
   ]
  },
  {
   "cell_type": "code",
   "execution_count": 108,
   "id": "f1179546-40f1-41c7-9111-22ea0917078a",
   "metadata": {},
   "outputs": [],
   "source": [
    "df.to_csv('data/silver.consolidated_airline_reviews.csv')"
   ]
  },
  {
   "cell_type": "code",
   "execution_count": null,
   "id": "d7cc32a1-cb93-4b3d-ad7c-01e2dc8a7e34",
   "metadata": {},
   "outputs": [],
   "source": []
  },
  {
   "cell_type": "code",
   "execution_count": 110,
   "id": "35e8bdc5-9738-4d7f-bd57-9d04062cbe7a",
   "metadata": {},
   "outputs": [],
   "source": [
    "import requests"
   ]
  },
  {
   "cell_type": "code",
   "execution_count": 112,
   "id": "6552d299-69f7-4a29-a174-381a42f34899",
   "metadata": {},
   "outputs": [],
   "source": [
    "%run POC_DatabricksToken.ipynb"
   ]
  },
  {
   "cell_type": "code",
   "execution_count": 117,
   "id": "efc746f2-e016-4702-bf32-139d16a4c436",
   "metadata": {},
   "outputs": [
    {
     "name": "stdout",
     "output_type": "stream",
     "text": [
      "Uploaded 'data/silver.consolidated_airline_reviews.csv' to '/Volumes/workspace/data608/data608_volume/silver_consolidated_airline_reviews.csv' on Databricks workspace dbc-daf0509f-1d8b.cloud.databricks.com\n"
     ]
    }
   ],
   "source": [
    "#Using Databricks Upload a file API\n",
    "#https://docs.databricks.com/api/workspace/files/upload\n",
    "databricks_instance = 'dbc-daf0509f-1d8b.cloud.databricks.com'\n",
    "local_path = 'data/silver.consolidated_airline_reviews.csv'\n",
    "remote_path = '/Volumes/workspace/data608/data608_volume/silver_consolidated_airline_reviews.csv'\n",
    "headers = {'Authorization' : f\"Bearer {DATABRICKS_TOKEN}\"}\n",
    "#print(headers)\n",
    "\n",
    "with open(local_path, 'rb') as f:\n",
    "    r = requests.put(\n",
    "      f\"https://{databricks_instance}/api/2.0/fs/files{remote_path}?overwrite=true\",\n",
    "      headers=headers,\n",
    "      data=f)\n",
    "    r.raise_for_status()\n",
    "\n",
    "print(f\"Uploaded '{local_path}' to '{remote_path}' on Databricks workspace {databricks_instance}\")"
   ]
  },
  {
   "cell_type": "code",
   "execution_count": null,
   "id": "b0b9eb92-772f-4749-b798-0852294c46d6",
   "metadata": {},
   "outputs": [],
   "source": []
  }
 ],
 "metadata": {
  "kernelspec": {
   "display_name": "Python [conda env:base] *",
   "language": "python",
   "name": "conda-base-py"
  },
  "language_info": {
   "codemirror_mode": {
    "name": "ipython",
    "version": 3
   },
   "file_extension": ".py",
   "mimetype": "text/x-python",
   "name": "python",
   "nbconvert_exporter": "python",
   "pygments_lexer": "ipython3",
   "version": "3.12.7"
  }
 },
 "nbformat": 4,
 "nbformat_minor": 5
}
