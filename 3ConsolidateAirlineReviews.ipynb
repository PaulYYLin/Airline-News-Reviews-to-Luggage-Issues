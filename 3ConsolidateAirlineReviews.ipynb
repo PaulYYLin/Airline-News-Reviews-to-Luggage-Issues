{
 "cells": [
  {
   "cell_type": "code",
   "execution_count": 59,
   "id": "b5a0835a-4afc-491c-86a6-ad8eb2d4555a",
   "metadata": {
    "execution": {
     "iopub.execute_input": "2025-03-26T03:54:41.746012Z",
     "iopub.status.busy": "2025-03-26T03:54:41.745342Z",
     "iopub.status.idle": "2025-03-26T03:54:41.751112Z",
     "shell.execute_reply": "2025-03-26T03:54:41.750081Z",
     "shell.execute_reply.started": "2025-03-26T03:54:41.745973Z"
    }
   },
   "outputs": [],
   "source": [
    "import pandas as pd\n",
    "import psycopg2"
   ]
  },
  {
   "cell_type": "code",
   "execution_count": 61,
   "id": "3fd25e67-37f1-4a75-82ef-b386640c4273",
   "metadata": {
    "execution": {
     "iopub.execute_input": "2025-03-26T03:54:42.363203Z",
     "iopub.status.busy": "2025-03-26T03:54:42.362699Z",
     "iopub.status.idle": "2025-03-26T03:54:42.372586Z",
     "shell.execute_reply": "2025-03-26T03:54:42.371825Z",
     "shell.execute_reply.started": "2025-03-26T03:54:42.363166Z"
    }
   },
   "outputs": [],
   "source": [
    "#Get DB credentials\n",
    "from dotenv import load_dotenv\n",
    "import os\n",
    "\n",
    "from dotenv import load_dotenv\n",
    "from pathlib import Path\n",
    "import os\n",
    "\n",
    "dotenv_path = Path('db_credentials.env')\n",
    "load_dotenv(dotenv_path=dotenv_path)\n",
    "\n",
    "DB_HOST = os.getenv('DB_HOST')\n",
    "DB_PORT = os.getenv('DB_PORT')\n",
    "DB_NAME = os.getenv('DB_DATABASE')\n",
    "DB_USER = os.getenv('DB_USER')\n",
    "DB_PASSWORD = os.getenv('DB_PASSWORD')\n",
    "DATABRICKS_TOKEN = os.getenv('DATABRICKS_TOKEN')\n",
    "DATABRICKS_INSTANCE = os.getenv('DATABRICKS_INSTANCE')"
   ]
  },
  {
   "cell_type": "code",
   "execution_count": 99,
   "id": "d22b377c-223f-4f6d-90ff-492a73904bc6",
   "metadata": {
    "execution": {
     "iopub.execute_input": "2025-03-26T04:22:14.499606Z",
     "iopub.status.busy": "2025-03-26T04:22:14.497980Z",
     "iopub.status.idle": "2025-03-26T04:22:16.000020Z",
     "shell.execute_reply": "2025-03-26T04:22:15.999228Z",
     "shell.execute_reply.started": "2025-03-26T04:22:14.499515Z"
    }
   },
   "outputs": [
    {
     "name": "stdout",
     "output_type": "stream",
     "text": [
      "View 'silver_consolidated_airline_reviews' created successfully.\n"
     ]
    }
   ],
   "source": [
    "try:\n",
    "    # Connect to the PostgreSQL database\n",
    "    connection = psycopg2.connect(\n",
    "        dbname=DB_NAME,\n",
    "        user=DB_USER,\n",
    "        password=DB_PASSWORD,\n",
    "        host=DB_HOST,\n",
    "        port=DB_PORT\n",
    "    )\n",
    "    \n",
    "    cursor = connection.cursor()\n",
    "    \n",
    "    cursor.execute(\"\"\"\n",
    "        DROP VIEW IF EXISTS silver_consolidated_airline_reviews\n",
    "    \"\"\")\n",
    "    \n",
    "    cursor.execute(\"\"\"\n",
    "        CREATE VIEW silver_consolidated_airline_reviews AS\n",
    "        SELECT\n",
    "        \tCONCAT('K', \"Id\") AS airline_review_id,\n",
    "            \"Airline Name\" AS airline_name,\n",
    "        \t\"Overall_Rating\" AS rating_overall,\n",
    "        \t\"Review_Title\" AS review_title,\n",
    "        \t\"Review Date\" AS review_date,\n",
    "        \t\"Verified\" AS verified,\n",
    "        \t\"Review\" AS review_text,\n",
    "        \t\"Aircraft\" AS aircraft,\n",
    "        \t\"Type Of Traveller\" AS type_of_traveller,\n",
    "        \t\"Seat Type\" AS seat_type,\n",
    "        \t\"Route\" AS route,\n",
    "        \t\"Date Flown\" AS flight_date,\n",
    "        \t\"Seat Comfort\" AS rating_seat_comfort,\n",
    "        \t\"Cabin Staff Service\" AS rating_cabin_staff_service,\n",
    "        \t\"Food & Beverages\" AS rating_food_and_beverages,\n",
    "        \t\"Ground Service\" AS rating_ground_service,\n",
    "        \t\"Inflight Entertainment\" AS rating_inflight_entertainment,\n",
    "        \t\"Wifi & Connectivity\" AS rating_wifi_and_connectivity,\n",
    "        \t\"Value For Money\" AS rating_value_for_money,\n",
    "        \t\"Recommended\" AS recommended,\n",
    "            \"is_lost_luggage_flag\",\n",
    "            CAST(NULL AS bool) is_low_cost_airline,\n",
    "            \"created_by\",\n",
    "            \"created_date\",\n",
    "            \"lastmodified_by\",\n",
    "            \"lastmodified_date\"\n",
    "        FROM silver_airline_quality_reviews AS K\n",
    "\n",
    "        UNION ALL\n",
    "\n",
    "        SELECT\n",
    "        \tR.post_id AS airline_review_id,\n",
    "            AC.\"Name\" AS airline_name,\n",
    "            --CONCAT(AC.\"Name\", ' (', L.responsible_airline, ')') AS airline_name,\n",
    "        \tNULL AS rating_overall,\n",
    "        \tR.title AS review_title,\n",
    "        \tR.created_utc AS review_date,\n",
    "        \tNULL AS verified,\n",
    "        \tR.selftext AS review_text,\n",
    "        \tNULL AS aircraft,\n",
    "        \tNULL AS type_of_traveller,\n",
    "        \tNULL AS seat_type,\n",
    "        \tCASE\n",
    "                WHEN L.mentioned_airlines_routes = '{}' THEN null\n",
    "                ELSE\n",
    "                    NULLIF(\n",
    "                    REPLACE(\n",
    "                    REPLACE(\n",
    "                    REPLACE(\n",
    "                    REPLACE(\n",
    "                    REPLACE(\n",
    "                    REPLACE(\n",
    "                    REPLACE( \n",
    "                        REPLACE(L.mentioned_airlines_routes, '},{', ' to ')\n",
    "                        , ',', ' to ')\n",
    "                        , '{{', '')\n",
    "                        , '}}', '')\n",
    "                        , '{', '')\n",
    "                        , '}', '')\n",
    "                        , 'unknown to ', '')\n",
    "                        , 'unknown', '')\n",
    "                        ,'')\n",
    "            END AS route,\n",
    "        \tNULL AS flight_date,\n",
    "        \tNULL AS rating_seat_comfort,\n",
    "        \tNULL AS rating_cabin_staff_service,\n",
    "        \tNULL AS rating_food_and_beverages,\n",
    "        \tNULL AS rating_ground_service,\n",
    "        \tNULL AS rating_inflight_entertainment,\n",
    "        \tNULL AS rating_wifi_and_connectivity,\n",
    "        \tNULL AS rating_value_for_money,\n",
    "        \tNULL AS recommended,\n",
    "            CASE WHEN L.luggage_issue = 1 THEN true ELSE false END AS is_lost_luggage_flag,\n",
    "            CAST(NULL AS bool) is_low_cost_airline,\n",
    "            'From_Reddit' AS created_by,\n",
    "            R.created_utc AS created_date,\n",
    "            'From_Reddit' AS lastmodified_by,\n",
    "            R.created_utc AS lastmodified_date\n",
    "        FROM bronze_reddit_reviews AS R\n",
    "        INNER JOIN labeling_values AS L ON L.post_id = R.post_id\n",
    "        INNER JOIN bronze_airline_codes AS AC ON AC.\"ICAO\" = L.responsible_airline\n",
    "        WHERE L.responsible_airline != 'unknown'\n",
    "        AND L.aviation_related = 1\n",
    "    \"\"\")\n",
    "    connection.commit()\n",
    "    print(\"View 'silver_consolidated_airline_reviews' created successfully.\")\n",
    "\n",
    "except (Exception, psycopg2.Error) as error:\n",
    "    print(\"Error during drop-create view operation:\", error)\n",
    "finally:\n",
    "    if connection:\n",
    "        cursor.close()\n",
    "        connection.close()"
   ]
  },
  {
   "cell_type": "code",
   "execution_count": null,
   "id": "94a8cfac-51f4-4202-8711-010bbf621183",
   "metadata": {},
   "outputs": [],
   "source": []
  },
  {
   "cell_type": "code",
   "execution_count": 83,
   "id": "1d99585a-b99e-407d-9d4d-9e704c09fda5",
   "metadata": {
    "execution": {
     "iopub.execute_input": "2025-03-26T04:06:41.773064Z",
     "iopub.status.busy": "2025-03-26T04:06:41.772197Z",
     "iopub.status.idle": "2025-03-26T04:06:49.230926Z",
     "shell.execute_reply": "2025-03-26T04:06:49.230678Z",
     "shell.execute_reply.started": "2025-03-26T04:06:41.773029Z"
    }
   },
   "outputs": [
    {
     "name": "stdout",
     "output_type": "stream",
     "text": [
      "                                   airline_review_id   airline_name  \\\n",
      "0  K5cb0f79de5c9e67eb8b30829f79c4954df18ccb36ac93...    AB Aviation   \n",
      "1  K8e6c32573411848ebb03db8611ba048ed404efb10e302...    AB Aviation   \n",
      "2  K87eb30af6644384e7f6b999af1496654808d0b20fdbf4...    AB Aviation   \n",
      "3  K7f7f715210dce748407158608b5d19354598b50d5019a...  Adria Airways   \n",
      "4  K7da7e8cd22cf9233f1427953365c03263d0951b930f3d...  Adria Airways   \n",
      "\n",
      "   rating_overall                           review_title review_date verified  \\\n",
      "0             9.0                \"pretty decent airline\"  2019-11-11     True   \n",
      "1             1.0                   \"Not a good airline\"  2019-06-25     True   \n",
      "2             1.0         \"flight was fortunately short\"  2019-06-25     True   \n",
      "3             1.0    \"I will never fly again with Adria\"  2019-09-28    False   \n",
      "4             1.0  \"it ruined our last days of holidays\"  2019-09-24     True   \n",
      "\n",
      "                                         review_text       aircraft  \\\n",
      "0    Moroni to Moheli. Turned out to be a pretty ...           None   \n",
      "1   Moroni to Anjouan. It is a very small airline...           E120   \n",
      "2    Anjouan to Dzaoudzi. A very small airline an...  Embraer E120    \n",
      "3    Please do a favor yourself and do not fly wi...           None   \n",
      "4   Do not book a flight with this airline! My fr...           None   \n",
      "\n",
      "  type_of_traveller      seat_type  ... rating_ground_service  \\\n",
      "0      Solo Leisure  Economy Class  ...                   4.0   \n",
      "1      Solo Leisure  Economy Class  ...                   1.0   \n",
      "2      Solo Leisure  Economy Class  ...                   1.0   \n",
      "3      Solo Leisure  Economy Class  ...                   1.0   \n",
      "4    Couple Leisure  Economy Class  ...                   1.0   \n",
      "\n",
      "  rating_inflight_entertainment  rating_wifi_and_connectivity  \\\n",
      "0                           NaN                           NaN   \n",
      "1                           NaN                           NaN   \n",
      "2                           NaN                           NaN   \n",
      "3                           NaN                           NaN   \n",
      "4                           1.0                           1.0   \n",
      "\n",
      "   rating_value_for_money  recommended  is_lost_luggage_flag   created_by  \\\n",
      "0                     3.0         True                  None  From_Kaggle   \n",
      "1                     2.0        False                  None  From_Kaggle   \n",
      "2                     2.0        False                  None  From_Kaggle   \n",
      "3                     1.0        False                  None  From_Kaggle   \n",
      "4                     1.0        False                  None  From_Kaggle   \n",
      "\n",
      "                created_date  lastmodified_by          lastmodified_date  \n",
      "0 2025-03-26 02:53:43.889075      From_Kaggle 2025-03-26 02:53:43.889075  \n",
      "1 2025-03-26 02:53:43.889075      From_Kaggle 2025-03-26 02:53:43.889075  \n",
      "2 2025-03-26 02:53:43.889075      From_Kaggle 2025-03-26 02:53:43.889075  \n",
      "3 2025-03-26 02:53:43.889075      From_Kaggle 2025-03-26 02:53:43.889075  \n",
      "4 2025-03-26 02:53:43.889075      From_Kaggle 2025-03-26 02:53:43.889075  \n",
      "\n",
      "[5 rows x 25 columns]\n",
      "Index(['airline_review_id', 'airline_name', 'rating_overall', 'review_title',\n",
      "       'review_date', 'verified', 'review_text', 'aircraft',\n",
      "       'type_of_traveller', 'seat_type', 'route', 'flight_date',\n",
      "       'rating_seat_comfort', 'rating_cabin_staff_service',\n",
      "       'rating_food_and_beverages', 'rating_ground_service',\n",
      "       'rating_inflight_entertainment', 'rating_wifi_and_connectivity',\n",
      "       'rating_value_for_money', 'recommended', 'is_lost_luggage_flag',\n",
      "       'created_by', 'created_date', 'lastmodified_by', 'lastmodified_date'],\n",
      "      dtype='object')\n",
      "24444\n"
     ]
    }
   ],
   "source": [
    "results = None\n",
    "colnames = None\n",
    "\n",
    "try:\n",
    "    # Connect to the PostgreSQL database\n",
    "    connection = psycopg2.connect(\n",
    "        dbname=DB_NAME,\n",
    "        user=DB_USER,\n",
    "        password=DB_PASSWORD,\n",
    "        host=DB_HOST,\n",
    "        port=DB_PORT\n",
    "    )\n",
    "\n",
    "    cursor = connection.cursor()\n",
    "    \n",
    "    query = 'SELECT * FROM \"silver_consolidated_airline_reviews\"'\n",
    "     \n",
    "    cursor.execute(query)\n",
    "     \n",
    "    results = cursor.fetchall()\n",
    "\n",
    "    # Get the column names\n",
    "    colnames = [desc[0] for desc in cursor.description]\n",
    "\n",
    "    # Convert the results to a pandas DataFrame\n",
    "    df = pd.DataFrame(results, columns=colnames)\n",
    "\n",
    "except (Exception, psycopg2.Error) as error:\n",
    "    print(\"Error during select operation:\", error)\n",
    "finally:\n",
    "    if connection:\n",
    "        cursor.close()\n",
    "        connection.close()\n",
    "\n",
    "print(df.head())\n",
    "print(df.columns)\n",
    "print(len(df))"
   ]
  },
  {
   "cell_type": "code",
   "execution_count": null,
   "id": "c4ef99e6-f522-4925-8e3d-94efa359df34",
   "metadata": {},
   "outputs": [],
   "source": []
  },
  {
   "cell_type": "markdown",
   "id": "7cf1f734-b869-4fae-8939-54d85e2bfd3e",
   "metadata": {},
   "source": [
    "#### Upload Dataframe to Databricks volume"
   ]
  },
  {
   "cell_type": "code",
   "execution_count": 108,
   "id": "f1179546-40f1-41c7-9111-22ea0917078a",
   "metadata": {},
   "outputs": [],
   "source": [
    "# Only upload to Databricks Airline Quality Reviews\n",
    "#df.to_csv('data/silver_consolidated_airline_reviews.csv')"
   ]
  },
  {
   "cell_type": "code",
   "execution_count": 110,
   "id": "35e8bdc5-9738-4d7f-bd57-9d04062cbe7a",
   "metadata": {},
   "outputs": [],
   "source": [
    "#import requests"
   ]
  },
  {
   "cell_type": "code",
   "execution_count": 117,
   "id": "efc746f2-e016-4702-bf32-139d16a4c436",
   "metadata": {},
   "outputs": [
    {
     "name": "stdout",
     "output_type": "stream",
     "text": [
      "Uploaded 'data/silver.consolidated_airline_reviews.csv' to '/Volumes/workspace/data608/data608_volume/silver_consolidated_airline_reviews.csv' on Databricks workspace dbc-daf0509f-1d8b.cloud.databricks.com\n"
     ]
    }
   ],
   "source": [
    "'''\n",
    "#Using Databricks Upload a file API\n",
    "#https://docs.databricks.com/api/workspace/files/upload\n",
    "databricks_instance = DATABRICKS_INSTANCE\n",
    "local_path = 'data/silver_consolidated_airline_reviews.csv'\n",
    "remote_path = '/Volumes/workspace/data608/data608_volume/silver_consolidated_airline_reviews.csv'\n",
    "headers = {'Authorization' : f\"Bearer {DATABRICKS_TOKEN}\"}\n",
    "#print(headers)\n",
    "\n",
    "with open(local_path, 'rb') as f:\n",
    "    r = requests.put(\n",
    "      f\"https://{databricks_instance}/api/2.0/fs/files{remote_path}?overwrite=true\",\n",
    "      headers=headers,\n",
    "      data=f)\n",
    "    r.raise_for_status()\n",
    "\n",
    "print(f\"Uploaded '{local_path}' to '{remote_path}' on Databricks workspace {databricks_instance}\")\n",
    "'''"
   ]
  },
  {
   "cell_type": "code",
   "execution_count": null,
   "id": "b0b9eb92-772f-4749-b798-0852294c46d6",
   "metadata": {},
   "outputs": [],
   "source": []
  }
 ],
 "metadata": {
  "kernelspec": {
   "display_name": "Python [conda env:base] *",
   "language": "python",
   "name": "conda-base-py"
  },
  "language_info": {
   "codemirror_mode": {
    "name": "ipython",
    "version": 3
   },
   "file_extension": ".py",
   "mimetype": "text/x-python",
   "name": "python",
   "nbconvert_exporter": "python",
   "pygments_lexer": "ipython3",
   "version": "3.12.7"
  }
 },
 "nbformat": 4,
 "nbformat_minor": 5
}
