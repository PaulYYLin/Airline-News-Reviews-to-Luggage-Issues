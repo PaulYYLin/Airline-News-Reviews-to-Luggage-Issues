{
 "cells": [
  {
   "cell_type": "code",
   "execution_count": 2,
   "metadata": {
    "execution": {
     "iopub.execute_input": "2025-04-03T13:07:21.461240Z",
     "iopub.status.busy": "2025-04-03T13:07:21.459737Z",
     "iopub.status.idle": "2025-04-03T13:07:21.474909Z",
     "shell.execute_reply": "2025-04-03T13:07:21.474358Z",
     "shell.execute_reply.started": "2025-04-03T13:07:21.461167Z"
    }
   },
   "outputs": [],
   "source": [
    "import os\n",
    "import pandas as pd\n",
    "from tqdm.notebook import tqdm\n",
    "from datetime import datetime"
   ]
  },
  {
   "cell_type": "code",
   "execution_count": 3,
   "metadata": {
    "execution": {
     "iopub.execute_input": "2025-04-03T13:07:21.476725Z",
     "iopub.status.busy": "2025-04-03T13:07:21.476509Z",
     "iopub.status.idle": "2025-04-03T13:07:21.490377Z",
     "shell.execute_reply": "2025-04-03T13:07:21.490000Z",
     "shell.execute_reply.started": "2025-04-03T13:07:21.476706Z"
    }
   },
   "outputs": [],
   "source": [
    "#Get ETL_DATE for Incremental Ingestion (enabled if ETL_DATE set to 'CURRENT_DATE')\n",
    "from dotenv import load_dotenv\n",
    "from pathlib import Path\n",
    "import os\n",
    "\n",
    "dotenv_path = Path('db_credentials.env')\n",
    "load_dotenv(dotenv_path=dotenv_path)\n",
    "\n",
    "ETL_DATE = os.getenv('ETL_DATE')"
   ]
  },
  {
   "cell_type": "code",
   "execution_count": 4,
   "metadata": {
    "execution": {
     "iopub.execute_input": "2025-04-03T13:07:21.491145Z",
     "iopub.status.busy": "2025-04-03T13:07:21.491021Z",
     "iopub.status.idle": "2025-04-03T13:07:21.494053Z",
     "shell.execute_reply": "2025-04-03T13:07:21.493816Z",
     "shell.execute_reply.started": "2025-04-03T13:07:21.491133Z"
    }
   },
   "outputs": [
    {
     "name": "stdout",
     "output_type": "stream",
     "text": [
      "20250403\n"
     ]
    }
   ],
   "source": [
    "# For Incremental Ingestion (enabled if ETL_DATE set to 'CURRENT_DATE')\n",
    "if ETL_DATE == 'CURRENT_DATE':\n",
    "    ETL_DATE = datetime.today().strftime('%Y%m%d')\n",
    "else:\n",
    "   ETL_DATE = '20250322'\n",
    "    \n",
    "print(ETL_DATE)"
   ]
  },
  {
   "cell_type": "code",
   "execution_count": 5,
   "metadata": {
    "execution": {
     "iopub.execute_input": "2025-04-03T13:07:21.494612Z",
     "iopub.status.busy": "2025-04-03T13:07:21.494526Z",
     "iopub.status.idle": "2025-04-03T13:07:21.504967Z",
     "shell.execute_reply": "2025-04-03T13:07:21.504617Z",
     "shell.execute_reply.started": "2025-04-03T13:07:21.494604Z"
    }
   },
   "outputs": [
    {
     "data": {
      "text/plain": [
       "(59, 22)"
      ]
     },
     "execution_count": 5,
     "metadata": {},
     "output_type": "execute_result"
    }
   ],
   "source": [
    "data = pd.read_csv(f\"data/silver_{ETL_DATE}_Airline_Reviews_Preprocessed.csv\")\n",
    "data.shape"
   ]
  },
  {
   "cell_type": "code",
   "execution_count": 6,
   "metadata": {
    "execution": {
     "iopub.execute_input": "2025-04-03T13:07:21.506221Z",
     "iopub.status.busy": "2025-04-03T13:07:21.506079Z",
     "iopub.status.idle": "2025-04-03T13:07:21.521766Z",
     "shell.execute_reply": "2025-04-03T13:07:21.521516Z",
     "shell.execute_reply.started": "2025-04-03T13:07:21.506212Z"
    }
   },
   "outputs": [
    {
     "name": "stdout",
     "output_type": "stream",
     "text": [
      "59\n"
     ]
    },
    {
     "data": {
      "text/html": [
       "<div>\n",
       "<style scoped>\n",
       "    .dataframe tbody tr th:only-of-type {\n",
       "        vertical-align: middle;\n",
       "    }\n",
       "\n",
       "    .dataframe tbody tr th {\n",
       "        vertical-align: top;\n",
       "    }\n",
       "\n",
       "    .dataframe thead th {\n",
       "        text-align: right;\n",
       "    }\n",
       "</style>\n",
       "<table border=\"1\" class=\"dataframe\">\n",
       "  <thead>\n",
       "    <tr style=\"text-align: right;\">\n",
       "      <th></th>\n",
       "      <th>RowId</th>\n",
       "      <th>Airline Name</th>\n",
       "      <th>Overall_Rating</th>\n",
       "      <th>Review_Title</th>\n",
       "      <th>Review Date</th>\n",
       "      <th>Verified</th>\n",
       "      <th>Review</th>\n",
       "      <th>Top Review Image Url</th>\n",
       "      <th>Aircraft</th>\n",
       "      <th>Type Of Traveller</th>\n",
       "      <th>...</th>\n",
       "      <th>Date Flown</th>\n",
       "      <th>Seat Comfort</th>\n",
       "      <th>Cabin Staff Service</th>\n",
       "      <th>Food &amp; Beverages</th>\n",
       "      <th>Ground Service</th>\n",
       "      <th>Inflight Entertainment</th>\n",
       "      <th>Wifi &amp; Connectivity</th>\n",
       "      <th>Value For Money</th>\n",
       "      <th>Recommended</th>\n",
       "      <th>Id</th>\n",
       "    </tr>\n",
       "  </thead>\n",
       "  <tbody>\n",
       "    <tr>\n",
       "      <th>0</th>\n",
       "      <td>0</td>\n",
       "      <td>Aeromexico</td>\n",
       "      <td>5.0</td>\n",
       "      <td>\"Return flight had problems\"</td>\n",
       "      <td>2025-03-30</td>\n",
       "      <td>True</td>\n",
       "      <td>I booked London - Mexico City - London Busi...</td>\n",
       "      <td>NaN</td>\n",
       "      <td>Boeing 787</td>\n",
       "      <td>Solo Leisure</td>\n",
       "      <td>...</td>\n",
       "      <td>2025-03-01</td>\n",
       "      <td>5.0</td>\n",
       "      <td>4.0</td>\n",
       "      <td>3.0</td>\n",
       "      <td>1.0</td>\n",
       "      <td>2.0</td>\n",
       "      <td>NaN</td>\n",
       "      <td>3</td>\n",
       "      <td>no</td>\n",
       "      <td>4e952d699faaee61d9e384f8d7e5513a4753a56b599f20...</td>\n",
       "    </tr>\n",
       "    <tr>\n",
       "      <th>1</th>\n",
       "      <td>1</td>\n",
       "      <td>Aeromexico</td>\n",
       "      <td>1.0</td>\n",
       "      <td>\"Very disappointed\"</td>\n",
       "      <td>2025-03-29</td>\n",
       "      <td>True</td>\n",
       "      <td>Flew from Mexico City to Toronto March 2025...</td>\n",
       "      <td>NaN</td>\n",
       "      <td>NaN</td>\n",
       "      <td>Couple Leisure</td>\n",
       "      <td>...</td>\n",
       "      <td>2025-03-01</td>\n",
       "      <td>1.0</td>\n",
       "      <td>3.0</td>\n",
       "      <td>1.0</td>\n",
       "      <td>5.0</td>\n",
       "      <td>3.0</td>\n",
       "      <td>NaN</td>\n",
       "      <td>2</td>\n",
       "      <td>no</td>\n",
       "      <td>934ea944bc1c31893a3eb34b6e9a6a742b254df8c35262...</td>\n",
       "    </tr>\n",
       "    <tr>\n",
       "      <th>2</th>\n",
       "      <td>2</td>\n",
       "      <td>Air Canada rouge</td>\n",
       "      <td>10.0</td>\n",
       "      <td>\"showing if the bathroom is occupied\"</td>\n",
       "      <td>2025-03-29</td>\n",
       "      <td>False</td>\n",
       "      <td>Flight was awesome. Staff was awesome. My is...</td>\n",
       "      <td>https://www.airlinequality.com/wp-content/uplo...</td>\n",
       "      <td>NaN</td>\n",
       "      <td>Couple Leisure</td>\n",
       "      <td>...</td>\n",
       "      <td>2025-03-01</td>\n",
       "      <td>5.0</td>\n",
       "      <td>5.0</td>\n",
       "      <td>5.0</td>\n",
       "      <td>5.0</td>\n",
       "      <td>NaN</td>\n",
       "      <td>5.0</td>\n",
       "      <td>5</td>\n",
       "      <td>yes</td>\n",
       "      <td>e3d01b5c957953c87a79ff0869dbcd98c2323b0b5a0ca1...</td>\n",
       "    </tr>\n",
       "    <tr>\n",
       "      <th>3</th>\n",
       "      <td>3</td>\n",
       "      <td>Air India</td>\n",
       "      <td>1.0</td>\n",
       "      <td>\"can’t carry more than 15 kg\"</td>\n",
       "      <td>2025-04-03</td>\n",
       "      <td>True</td>\n",
       "      <td>I spoke to Air India call center before boo...</td>\n",
       "      <td>NaN</td>\n",
       "      <td>NaN</td>\n",
       "      <td>Solo Leisure</td>\n",
       "      <td>...</td>\n",
       "      <td>2025-04-01</td>\n",
       "      <td>NaN</td>\n",
       "      <td>NaN</td>\n",
       "      <td>NaN</td>\n",
       "      <td>1.0</td>\n",
       "      <td>NaN</td>\n",
       "      <td>NaN</td>\n",
       "      <td>1</td>\n",
       "      <td>no</td>\n",
       "      <td>a116ba41fc9a766f5da46bfcee3468d97f3072da451bc9...</td>\n",
       "    </tr>\n",
       "    <tr>\n",
       "      <th>4</th>\n",
       "      <td>4</td>\n",
       "      <td>Air Transat</td>\n",
       "      <td>2.0</td>\n",
       "      <td>\"insists that my carry-on is too big\"</td>\n",
       "      <td>2025-03-31</td>\n",
       "      <td>True</td>\n",
       "      <td>I had the most ridiculous experience on my ...</td>\n",
       "      <td>NaN</td>\n",
       "      <td>A330-200</td>\n",
       "      <td>Couple Leisure</td>\n",
       "      <td>...</td>\n",
       "      <td>2025-03-01</td>\n",
       "      <td>2.0</td>\n",
       "      <td>3.0</td>\n",
       "      <td>2.0</td>\n",
       "      <td>1.0</td>\n",
       "      <td>NaN</td>\n",
       "      <td>NaN</td>\n",
       "      <td>2</td>\n",
       "      <td>no</td>\n",
       "      <td>87739dd31255231aa004e32dc06a99a9bfeec53bfa3ac0...</td>\n",
       "    </tr>\n",
       "  </tbody>\n",
       "</table>\n",
       "<p>5 rows × 22 columns</p>\n",
       "</div>"
      ],
      "text/plain": [
       "   RowId      Airline Name  Overall_Rating  \\\n",
       "0      0        Aeromexico             5.0   \n",
       "1      1        Aeromexico             1.0   \n",
       "2      2  Air Canada rouge            10.0   \n",
       "3      3         Air India             1.0   \n",
       "4      4       Air Transat             2.0   \n",
       "\n",
       "                            Review_Title Review Date  Verified  \\\n",
       "0           \"Return flight had problems\"  2025-03-30      True   \n",
       "1                    \"Very disappointed\"  2025-03-29      True   \n",
       "2  \"showing if the bathroom is occupied\"  2025-03-29     False   \n",
       "3          \"can’t carry more than 15 kg\"  2025-04-03      True   \n",
       "4  \"insists that my carry-on is too big\"  2025-03-31      True   \n",
       "\n",
       "                                              Review  \\\n",
       "0     I booked London - Mexico City - London Busi...   \n",
       "1     Flew from Mexico City to Toronto March 2025...   \n",
       "2    Flight was awesome. Staff was awesome. My is...   \n",
       "3     I spoke to Air India call center before boo...   \n",
       "4     I had the most ridiculous experience on my ...   \n",
       "\n",
       "                                Top Review Image Url    Aircraft  \\\n",
       "0                                                NaN  Boeing 787   \n",
       "1                                                NaN         NaN   \n",
       "2  https://www.airlinequality.com/wp-content/uplo...         NaN   \n",
       "3                                                NaN         NaN   \n",
       "4                                                NaN    A330-200   \n",
       "\n",
       "  Type Of Traveller  ...  Date Flown Seat Comfort Cabin Staff Service  \\\n",
       "0      Solo Leisure  ...  2025-03-01          5.0                 4.0   \n",
       "1    Couple Leisure  ...  2025-03-01          1.0                 3.0   \n",
       "2    Couple Leisure  ...  2025-03-01          5.0                 5.0   \n",
       "3      Solo Leisure  ...  2025-04-01          NaN                 NaN   \n",
       "4    Couple Leisure  ...  2025-03-01          2.0                 3.0   \n",
       "\n",
       "   Food & Beverages  Ground Service  Inflight Entertainment  \\\n",
       "0               3.0             1.0                     2.0   \n",
       "1               1.0             5.0                     3.0   \n",
       "2               5.0             5.0                     NaN   \n",
       "3               NaN             1.0                     NaN   \n",
       "4               2.0             1.0                     NaN   \n",
       "\n",
       "   Wifi & Connectivity  Value For Money  Recommended  \\\n",
       "0                  NaN                3           no   \n",
       "1                  NaN                2           no   \n",
       "2                  5.0                5          yes   \n",
       "3                  NaN                1           no   \n",
       "4                  NaN                2           no   \n",
       "\n",
       "                                                  Id  \n",
       "0  4e952d699faaee61d9e384f8d7e5513a4753a56b599f20...  \n",
       "1  934ea944bc1c31893a3eb34b6e9a6a742b254df8c35262...  \n",
       "2  e3d01b5c957953c87a79ff0869dbcd98c2323b0b5a0ca1...  \n",
       "3  a116ba41fc9a766f5da46bfcee3468d97f3072da451bc9...  \n",
       "4  87739dd31255231aa004e32dc06a99a9bfeec53bfa3ac0...  \n",
       "\n",
       "[5 rows x 22 columns]"
      ]
     },
     "execution_count": 6,
     "metadata": {},
     "output_type": "execute_result"
    }
   ],
   "source": [
    "print(len(data))\n",
    "data.head()"
   ]
  },
  {
   "cell_type": "markdown",
   "metadata": {},
   "source": [
    "### Hugging Face - cardiffnlp/twitter-roberta-base-sentiment-latest"
   ]
  },
  {
   "cell_type": "code",
   "execution_count": 8,
   "metadata": {
    "execution": {
     "iopub.execute_input": "2025-04-03T13:07:21.529739Z",
     "iopub.status.busy": "2025-04-03T13:07:21.529625Z",
     "iopub.status.idle": "2025-04-03T13:07:28.905956Z",
     "shell.execute_reply": "2025-04-03T13:07:28.905682Z",
     "shell.execute_reply.started": "2025-04-03T13:07:21.529726Z"
    }
   },
   "outputs": [
    {
     "name": "stderr",
     "output_type": "stream",
     "text": [
      "Some weights of the model checkpoint at cardiffnlp/twitter-roberta-base-sentiment-latest were not used when initializing RobertaForSequenceClassification: ['roberta.pooler.dense.bias', 'roberta.pooler.dense.weight']\n",
      "- This IS expected if you are initializing RobertaForSequenceClassification from the checkpoint of a model trained on another task or with another architecture (e.g. initializing a BertForSequenceClassification model from a BertForPreTraining model).\n",
      "- This IS NOT expected if you are initializing RobertaForSequenceClassification from the checkpoint of a model that you expect to be exactly identical (initializing a BertForSequenceClassification model from a BertForSequenceClassification model).\n",
      "Device set to use mps:0\n"
     ]
    },
    {
     "data": {
      "text/plain": [
       "[{'label': 'positive', 'score': 0.9614965319633484}]"
      ]
     },
     "execution_count": 8,
     "metadata": {},
     "output_type": "execute_result"
    }
   ],
   "source": [
    "from transformers import pipeline\n",
    "RBSL_PN_MODEL = pipeline(\"text-classification\", model=\"cardiffnlp/twitter-roberta-base-sentiment-latest\")\n",
    "RBSL_PN_MODEL('I am happy')"
   ]
  },
  {
   "cell_type": "code",
   "execution_count": 9,
   "metadata": {
    "execution": {
     "iopub.execute_input": "2025-04-03T13:07:28.906915Z",
     "iopub.status.busy": "2025-04-03T13:07:28.906442Z",
     "iopub.status.idle": "2025-04-03T13:07:38.584469Z",
     "shell.execute_reply": "2025-04-03T13:07:38.584127Z",
     "shell.execute_reply.started": "2025-04-03T13:07:28.906905Z"
    }
   },
   "outputs": [
    {
     "name": "stderr",
     "output_type": "stream",
     "text": [
      "huggingface/tokenizers: The current process just got forked, after parallelism has already been used. Disabling parallelism to avoid deadlocks...\n",
      "To disable this warning, you can either:\n",
      "\t- Avoid using `tokenizers` before the fork if possible\n",
      "\t- Explicitly set the environment variable TOKENIZERS_PARALLELISM=(true | false)\n"
     ]
    },
    {
     "data": {
      "application/vnd.jupyter.widget-view+json": {
       "model_id": "7d7636b518a94b8b9224130eeb4c17d5",
       "version_major": 2,
       "version_minor": 0
      },
      "text/plain": [
       "Processing reviews:   0%|          | 0/2 [00:00<?, ?it/s]"
      ]
     },
     "metadata": {},
     "output_type": "display_data"
    }
   ],
   "source": [
    "\n",
    "# Make sure reviews are in the right format (list of strings)\n",
    "review_texts = data['Review'].fillna(\"\").astype(str).tolist()\n",
    "\n",
    "# Process in batches\n",
    "batch_size = 32\n",
    "all_results = []\n",
    "\n",
    "for i in tqdm(range(0, len(review_texts), batch_size), desc=\"Processing reviews\"):\n",
    "    batch = review_texts[i:i + batch_size]\n",
    "    try:\n",
    "        batch_results = RBSL_PN_MODEL(\n",
    "            batch,\n",
    "            truncation=True,\n",
    "            max_length=512\n",
    "        )\n",
    "        all_results.extend(batch_results)\n",
    "    except Exception as e:\n",
    "        print(f\"Error in batch {i}-{i+batch_size}: {e}\")\n",
    "        all_results.extend([{'label': 'ERROR', 'score': 0.0} for _ in batch])\n",
    "\n",
    "# Convert to DataFrame\n",
    "sentiments_df = pd.DataFrame(all_results)\n",
    "sentiments_df.columns = ['sentiment_label', 'sentiment_scores']"
   ]
  },
  {
   "cell_type": "code",
   "execution_count": 10,
   "metadata": {
    "execution": {
     "iopub.execute_input": "2025-04-03T13:07:38.585465Z",
     "iopub.status.busy": "2025-04-03T13:07:38.585353Z",
     "iopub.status.idle": "2025-04-03T13:07:38.590499Z",
     "shell.execute_reply": "2025-04-03T13:07:38.590305Z",
     "shell.execute_reply.started": "2025-04-03T13:07:38.585454Z"
    }
   },
   "outputs": [
    {
     "name": "stdout",
     "output_type": "stream",
     "text": [
      "59\n"
     ]
    },
    {
     "data": {
      "text/html": [
       "<div>\n",
       "<style scoped>\n",
       "    .dataframe tbody tr th:only-of-type {\n",
       "        vertical-align: middle;\n",
       "    }\n",
       "\n",
       "    .dataframe tbody tr th {\n",
       "        vertical-align: top;\n",
       "    }\n",
       "\n",
       "    .dataframe thead th {\n",
       "        text-align: right;\n",
       "    }\n",
       "</style>\n",
       "<table border=\"1\" class=\"dataframe\">\n",
       "  <thead>\n",
       "    <tr style=\"text-align: right;\">\n",
       "      <th></th>\n",
       "      <th>sentiment_label</th>\n",
       "      <th>sentiment_scores</th>\n",
       "    </tr>\n",
       "  </thead>\n",
       "  <tbody>\n",
       "    <tr>\n",
       "      <th>0</th>\n",
       "      <td>positive</td>\n",
       "      <td>0.648737</td>\n",
       "    </tr>\n",
       "    <tr>\n",
       "      <th>1</th>\n",
       "      <td>negative</td>\n",
       "      <td>0.839803</td>\n",
       "    </tr>\n",
       "    <tr>\n",
       "      <th>2</th>\n",
       "      <td>neutral</td>\n",
       "      <td>0.525435</td>\n",
       "    </tr>\n",
       "    <tr>\n",
       "      <th>3</th>\n",
       "      <td>neutral</td>\n",
       "      <td>0.675186</td>\n",
       "    </tr>\n",
       "    <tr>\n",
       "      <th>4</th>\n",
       "      <td>negative</td>\n",
       "      <td>0.787324</td>\n",
       "    </tr>\n",
       "  </tbody>\n",
       "</table>\n",
       "</div>"
      ],
      "text/plain": [
       "  sentiment_label  sentiment_scores\n",
       "0        positive          0.648737\n",
       "1        negative          0.839803\n",
       "2         neutral          0.525435\n",
       "3         neutral          0.675186\n",
       "4        negative          0.787324"
      ]
     },
     "execution_count": 10,
     "metadata": {},
     "output_type": "execute_result"
    }
   ],
   "source": [
    "print(len(sentiments_df))\n",
    "sentiments_df.head()"
   ]
  },
  {
   "cell_type": "markdown",
   "metadata": {},
   "source": [
    "#### Merge back review text labels to original dataframe"
   ]
  },
  {
   "cell_type": "code",
   "execution_count": 12,
   "metadata": {
    "execution": {
     "iopub.execute_input": "2025-04-03T13:07:38.596714Z",
     "iopub.status.busy": "2025-04-03T13:07:38.596614Z",
     "iopub.status.idle": "2025-04-03T13:07:38.607289Z",
     "shell.execute_reply": "2025-04-03T13:07:38.606958Z",
     "shell.execute_reply.started": "2025-04-03T13:07:38.596705Z"
    }
   },
   "outputs": [
    {
     "name": "stdout",
     "output_type": "stream",
     "text": [
      "59\n"
     ]
    },
    {
     "data": {
      "text/html": [
       "<div>\n",
       "<style scoped>\n",
       "    .dataframe tbody tr th:only-of-type {\n",
       "        vertical-align: middle;\n",
       "    }\n",
       "\n",
       "    .dataframe tbody tr th {\n",
       "        vertical-align: top;\n",
       "    }\n",
       "\n",
       "    .dataframe thead th {\n",
       "        text-align: right;\n",
       "    }\n",
       "</style>\n",
       "<table border=\"1\" class=\"dataframe\">\n",
       "  <thead>\n",
       "    <tr style=\"text-align: right;\">\n",
       "      <th></th>\n",
       "      <th>RowId</th>\n",
       "      <th>Airline Name</th>\n",
       "      <th>Overall_Rating</th>\n",
       "      <th>Review_Title</th>\n",
       "      <th>Review Date</th>\n",
       "      <th>Verified</th>\n",
       "      <th>Review</th>\n",
       "      <th>Top Review Image Url</th>\n",
       "      <th>Aircraft</th>\n",
       "      <th>Type Of Traveller</th>\n",
       "      <th>...</th>\n",
       "      <th>Cabin Staff Service</th>\n",
       "      <th>Food &amp; Beverages</th>\n",
       "      <th>Ground Service</th>\n",
       "      <th>Inflight Entertainment</th>\n",
       "      <th>Wifi &amp; Connectivity</th>\n",
       "      <th>Value For Money</th>\n",
       "      <th>Recommended</th>\n",
       "      <th>Id</th>\n",
       "      <th>sentiment_label</th>\n",
       "      <th>sentiment_scores</th>\n",
       "    </tr>\n",
       "  </thead>\n",
       "  <tbody>\n",
       "    <tr>\n",
       "      <th>0</th>\n",
       "      <td>0</td>\n",
       "      <td>Aeromexico</td>\n",
       "      <td>5.0</td>\n",
       "      <td>\"Return flight had problems\"</td>\n",
       "      <td>2025-03-30</td>\n",
       "      <td>True</td>\n",
       "      <td>I booked London - Mexico City - London Busi...</td>\n",
       "      <td>NaN</td>\n",
       "      <td>Boeing 787</td>\n",
       "      <td>Solo Leisure</td>\n",
       "      <td>...</td>\n",
       "      <td>4.0</td>\n",
       "      <td>3.0</td>\n",
       "      <td>1.0</td>\n",
       "      <td>2.0</td>\n",
       "      <td>NaN</td>\n",
       "      <td>3</td>\n",
       "      <td>no</td>\n",
       "      <td>4e952d699faaee61d9e384f8d7e5513a4753a56b599f20...</td>\n",
       "      <td>positive</td>\n",
       "      <td>0.648737</td>\n",
       "    </tr>\n",
       "    <tr>\n",
       "      <th>1</th>\n",
       "      <td>1</td>\n",
       "      <td>Aeromexico</td>\n",
       "      <td>1.0</td>\n",
       "      <td>\"Very disappointed\"</td>\n",
       "      <td>2025-03-29</td>\n",
       "      <td>True</td>\n",
       "      <td>Flew from Mexico City to Toronto March 2025...</td>\n",
       "      <td>NaN</td>\n",
       "      <td>NaN</td>\n",
       "      <td>Couple Leisure</td>\n",
       "      <td>...</td>\n",
       "      <td>3.0</td>\n",
       "      <td>1.0</td>\n",
       "      <td>5.0</td>\n",
       "      <td>3.0</td>\n",
       "      <td>NaN</td>\n",
       "      <td>2</td>\n",
       "      <td>no</td>\n",
       "      <td>934ea944bc1c31893a3eb34b6e9a6a742b254df8c35262...</td>\n",
       "      <td>negative</td>\n",
       "      <td>0.839803</td>\n",
       "    </tr>\n",
       "    <tr>\n",
       "      <th>2</th>\n",
       "      <td>2</td>\n",
       "      <td>Air Canada rouge</td>\n",
       "      <td>10.0</td>\n",
       "      <td>\"showing if the bathroom is occupied\"</td>\n",
       "      <td>2025-03-29</td>\n",
       "      <td>False</td>\n",
       "      <td>Flight was awesome. Staff was awesome. My is...</td>\n",
       "      <td>https://www.airlinequality.com/wp-content/uplo...</td>\n",
       "      <td>NaN</td>\n",
       "      <td>Couple Leisure</td>\n",
       "      <td>...</td>\n",
       "      <td>5.0</td>\n",
       "      <td>5.0</td>\n",
       "      <td>5.0</td>\n",
       "      <td>NaN</td>\n",
       "      <td>5.0</td>\n",
       "      <td>5</td>\n",
       "      <td>yes</td>\n",
       "      <td>e3d01b5c957953c87a79ff0869dbcd98c2323b0b5a0ca1...</td>\n",
       "      <td>neutral</td>\n",
       "      <td>0.525435</td>\n",
       "    </tr>\n",
       "    <tr>\n",
       "      <th>3</th>\n",
       "      <td>3</td>\n",
       "      <td>Air India</td>\n",
       "      <td>1.0</td>\n",
       "      <td>\"can’t carry more than 15 kg\"</td>\n",
       "      <td>2025-04-03</td>\n",
       "      <td>True</td>\n",
       "      <td>I spoke to Air India call center before boo...</td>\n",
       "      <td>NaN</td>\n",
       "      <td>NaN</td>\n",
       "      <td>Solo Leisure</td>\n",
       "      <td>...</td>\n",
       "      <td>NaN</td>\n",
       "      <td>NaN</td>\n",
       "      <td>1.0</td>\n",
       "      <td>NaN</td>\n",
       "      <td>NaN</td>\n",
       "      <td>1</td>\n",
       "      <td>no</td>\n",
       "      <td>a116ba41fc9a766f5da46bfcee3468d97f3072da451bc9...</td>\n",
       "      <td>neutral</td>\n",
       "      <td>0.675186</td>\n",
       "    </tr>\n",
       "    <tr>\n",
       "      <th>4</th>\n",
       "      <td>4</td>\n",
       "      <td>Air Transat</td>\n",
       "      <td>2.0</td>\n",
       "      <td>\"insists that my carry-on is too big\"</td>\n",
       "      <td>2025-03-31</td>\n",
       "      <td>True</td>\n",
       "      <td>I had the most ridiculous experience on my ...</td>\n",
       "      <td>NaN</td>\n",
       "      <td>A330-200</td>\n",
       "      <td>Couple Leisure</td>\n",
       "      <td>...</td>\n",
       "      <td>3.0</td>\n",
       "      <td>2.0</td>\n",
       "      <td>1.0</td>\n",
       "      <td>NaN</td>\n",
       "      <td>NaN</td>\n",
       "      <td>2</td>\n",
       "      <td>no</td>\n",
       "      <td>87739dd31255231aa004e32dc06a99a9bfeec53bfa3ac0...</td>\n",
       "      <td>negative</td>\n",
       "      <td>0.787324</td>\n",
       "    </tr>\n",
       "  </tbody>\n",
       "</table>\n",
       "<p>5 rows × 24 columns</p>\n",
       "</div>"
      ],
      "text/plain": [
       "   RowId      Airline Name  Overall_Rating  \\\n",
       "0      0        Aeromexico             5.0   \n",
       "1      1        Aeromexico             1.0   \n",
       "2      2  Air Canada rouge            10.0   \n",
       "3      3         Air India             1.0   \n",
       "4      4       Air Transat             2.0   \n",
       "\n",
       "                            Review_Title Review Date  Verified  \\\n",
       "0           \"Return flight had problems\"  2025-03-30      True   \n",
       "1                    \"Very disappointed\"  2025-03-29      True   \n",
       "2  \"showing if the bathroom is occupied\"  2025-03-29     False   \n",
       "3          \"can’t carry more than 15 kg\"  2025-04-03      True   \n",
       "4  \"insists that my carry-on is too big\"  2025-03-31      True   \n",
       "\n",
       "                                              Review  \\\n",
       "0     I booked London - Mexico City - London Busi...   \n",
       "1     Flew from Mexico City to Toronto March 2025...   \n",
       "2    Flight was awesome. Staff was awesome. My is...   \n",
       "3     I spoke to Air India call center before boo...   \n",
       "4     I had the most ridiculous experience on my ...   \n",
       "\n",
       "                                Top Review Image Url    Aircraft  \\\n",
       "0                                                NaN  Boeing 787   \n",
       "1                                                NaN         NaN   \n",
       "2  https://www.airlinequality.com/wp-content/uplo...         NaN   \n",
       "3                                                NaN         NaN   \n",
       "4                                                NaN    A330-200   \n",
       "\n",
       "  Type Of Traveller  ... Cabin Staff Service Food & Beverages Ground Service  \\\n",
       "0      Solo Leisure  ...                 4.0              3.0            1.0   \n",
       "1    Couple Leisure  ...                 3.0              1.0            5.0   \n",
       "2    Couple Leisure  ...                 5.0              5.0            5.0   \n",
       "3      Solo Leisure  ...                 NaN              NaN            1.0   \n",
       "4    Couple Leisure  ...                 3.0              2.0            1.0   \n",
       "\n",
       "   Inflight Entertainment  Wifi & Connectivity  Value For Money  Recommended  \\\n",
       "0                     2.0                  NaN                3           no   \n",
       "1                     3.0                  NaN                2           no   \n",
       "2                     NaN                  5.0                5          yes   \n",
       "3                     NaN                  NaN                1           no   \n",
       "4                     NaN                  NaN                2           no   \n",
       "\n",
       "                                                  Id  sentiment_label  \\\n",
       "0  4e952d699faaee61d9e384f8d7e5513a4753a56b599f20...         positive   \n",
       "1  934ea944bc1c31893a3eb34b6e9a6a742b254df8c35262...         negative   \n",
       "2  e3d01b5c957953c87a79ff0869dbcd98c2323b0b5a0ca1...          neutral   \n",
       "3  a116ba41fc9a766f5da46bfcee3468d97f3072da451bc9...          neutral   \n",
       "4  87739dd31255231aa004e32dc06a99a9bfeec53bfa3ac0...         negative   \n",
       "\n",
       "   sentiment_scores  \n",
       "0          0.648737  \n",
       "1          0.839803  \n",
       "2          0.525435  \n",
       "3          0.675186  \n",
       "4          0.787324  \n",
       "\n",
       "[5 rows x 24 columns]"
      ]
     },
     "execution_count": 12,
     "metadata": {},
     "output_type": "execute_result"
    }
   ],
   "source": [
    "df_merged = data.join(sentiments_df, how='left')\n",
    "print(len(df_merged))\n",
    "df_merged.head()"
   ]
  },
  {
   "cell_type": "markdown",
   "metadata": {},
   "source": [
    "#### Persist to CSV file"
   ]
  },
  {
   "cell_type": "code",
   "execution_count": 14,
   "metadata": {
    "execution": {
     "iopub.execute_input": "2025-04-03T13:07:38.614686Z",
     "iopub.status.busy": "2025-04-03T13:07:38.614624Z",
     "iopub.status.idle": "2025-04-03T13:07:38.621084Z",
     "shell.execute_reply": "2025-04-03T13:07:38.620846Z",
     "shell.execute_reply.started": "2025-04-03T13:07:38.614679Z"
    }
   },
   "outputs": [],
   "source": [
    "df_merged.to_csv(f\"data/silver_{ETL_DATE}_Airline_Reviews_Sentiment.csv\", index=False, date_format='%Y-%m-%d')"
   ]
  },
  {
   "cell_type": "code",
   "execution_count": null,
   "metadata": {},
   "outputs": [],
   "source": []
  }
 ],
 "metadata": {
  "kernelspec": {
   "display_name": "Python [conda env:base] *",
   "language": "python",
   "name": "conda-base-py"
  },
  "language_info": {
   "codemirror_mode": {
    "name": "ipython",
    "version": 3
   },
   "file_extension": ".py",
   "mimetype": "text/x-python",
   "name": "python",
   "nbconvert_exporter": "python",
   "pygments_lexer": "ipython3",
   "version": "3.12.7"
  },
  "vscode": {
   "interpreter": {
    "hash": "1aef26605aa545d91d3fdfced60f5a4ad33a33223899fb2354864dd8410b95af"
   }
  }
 },
 "nbformat": 4,
 "nbformat_minor": 4
}
