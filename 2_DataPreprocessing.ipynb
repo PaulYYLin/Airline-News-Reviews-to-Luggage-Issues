{
 "cells": [
  {
   "cell_type": "code",
   "execution_count": 5,
   "id": "a8414ace-c0f9-4cc3-a4d0-ecf94e7138ed",
   "metadata": {
    "execution": {
     "iopub.execute_input": "2025-04-03T13:05:51.904241Z",
     "iopub.status.busy": "2025-04-03T13:05:51.903636Z",
     "iopub.status.idle": "2025-04-03T13:05:51.908060Z",
     "shell.execute_reply": "2025-04-03T13:05:51.907505Z",
     "shell.execute_reply.started": "2025-04-03T13:05:51.904194Z"
    }
   },
   "outputs": [],
   "source": [
    "import pandas as pd\n",
    "import numpy as np\n",
    "from datetime import datetime"
   ]
  },
  {
   "cell_type": "code",
   "execution_count": 6,
   "id": "4f00ae9b-5613-4dec-aaf0-d6d091595900",
   "metadata": {
    "execution": {
     "iopub.execute_input": "2025-04-03T13:05:51.910287Z",
     "iopub.status.busy": "2025-04-03T13:05:51.910018Z",
     "iopub.status.idle": "2025-04-03T13:05:51.925992Z",
     "shell.execute_reply": "2025-04-03T13:05:51.925528Z",
     "shell.execute_reply.started": "2025-04-03T13:05:51.910267Z"
    }
   },
   "outputs": [],
   "source": [
    "#Get ETL_DATE for Incremental Ingestion (enabled if ETL_DATE set to 'CURRENT_DATE')\n",
    "from dotenv import load_dotenv\n",
    "from pathlib import Path\n",
    "import os\n",
    "\n",
    "dotenv_path = Path('db_credentials.env')\n",
    "load_dotenv(dotenv_path=dotenv_path)\n",
    "\n",
    "ETL_DATE = os.getenv('ETL_DATE')"
   ]
  },
  {
   "cell_type": "code",
   "execution_count": 7,
   "id": "9ab42414-7fbf-4adf-92d5-d127b68621bb",
   "metadata": {
    "execution": {
     "iopub.execute_input": "2025-04-03T13:05:51.926807Z",
     "iopub.status.busy": "2025-04-03T13:05:51.926673Z",
     "iopub.status.idle": "2025-04-03T13:05:51.930402Z",
     "shell.execute_reply": "2025-04-03T13:05:51.929890Z",
     "shell.execute_reply.started": "2025-04-03T13:05:51.926791Z"
    }
   },
   "outputs": [
    {
     "name": "stdout",
     "output_type": "stream",
     "text": [
      "20250403\n"
     ]
    }
   ],
   "source": [
    "# For Incremental Ingestion (enabled if ETL_DATE set to 'CURRENT_DATE')\n",
    "if ETL_DATE == 'CURRENT_DATE':\n",
    "    ETL_DATE = datetime.today().strftime('%Y%m%d')\n",
    "else:\n",
    "   ETL_DATE = '20250322'\n",
    "    \n",
    "print(ETL_DATE)"
   ]
  },
  {
   "cell_type": "code",
   "execution_count": 8,
   "id": "0465403d-4571-4957-bcb9-f1d8a297520c",
   "metadata": {
    "execution": {
     "iopub.execute_input": "2025-04-03T13:05:51.931162Z",
     "iopub.status.busy": "2025-04-03T13:05:51.930998Z",
     "iopub.status.idle": "2025-04-03T13:05:51.956802Z",
     "shell.execute_reply": "2025-04-03T13:05:51.956543Z",
     "shell.execute_reply.started": "2025-04-03T13:05:51.931147Z"
    },
    "scrolled": true
   },
   "outputs": [
    {
     "name": "stdout",
     "output_type": "stream",
     "text": [
      "59\n"
     ]
    },
    {
     "data": {
      "text/html": [
       "<div>\n",
       "<style scoped>\n",
       "    .dataframe tbody tr th:only-of-type {\n",
       "        vertical-align: middle;\n",
       "    }\n",
       "\n",
       "    .dataframe tbody tr th {\n",
       "        vertical-align: top;\n",
       "    }\n",
       "\n",
       "    .dataframe thead th {\n",
       "        text-align: right;\n",
       "    }\n",
       "</style>\n",
       "<table border=\"1\" class=\"dataframe\">\n",
       "  <thead>\n",
       "    <tr style=\"text-align: right;\">\n",
       "      <th></th>\n",
       "      <th>Unnamed: 0</th>\n",
       "      <th>Airline Name</th>\n",
       "      <th>Overall_Rating</th>\n",
       "      <th>Review_Title</th>\n",
       "      <th>Review Date</th>\n",
       "      <th>Verified</th>\n",
       "      <th>Review</th>\n",
       "      <th>Top Review Image Url</th>\n",
       "      <th>Aircraft</th>\n",
       "      <th>Type Of Traveller</th>\n",
       "      <th>...</th>\n",
       "      <th>Route</th>\n",
       "      <th>Date Flown</th>\n",
       "      <th>Seat Comfort</th>\n",
       "      <th>Cabin Staff Service</th>\n",
       "      <th>Food &amp; Beverages</th>\n",
       "      <th>Ground Service</th>\n",
       "      <th>Inflight Entertainment</th>\n",
       "      <th>Wifi &amp; Connectivity</th>\n",
       "      <th>Value For Money</th>\n",
       "      <th>Recommended</th>\n",
       "    </tr>\n",
       "  </thead>\n",
       "  <tbody>\n",
       "    <tr>\n",
       "      <th>0</th>\n",
       "      <td>0</td>\n",
       "      <td>Aeromexico</td>\n",
       "      <td>5</td>\n",
       "      <td>\"Return flight had problems\"</td>\n",
       "      <td>30th March 2025</td>\n",
       "      <td>True</td>\n",
       "      <td>I booked London - Mexico City - London Busi...</td>\n",
       "      <td>NaN</td>\n",
       "      <td>Boeing 787</td>\n",
       "      <td>Solo Leisure</td>\n",
       "      <td>...</td>\n",
       "      <td>Mexico City to London</td>\n",
       "      <td>March 2025</td>\n",
       "      <td>5.0</td>\n",
       "      <td>4.0</td>\n",
       "      <td>3.0</td>\n",
       "      <td>1.0</td>\n",
       "      <td>2.0</td>\n",
       "      <td>NaN</td>\n",
       "      <td>3</td>\n",
       "      <td>no</td>\n",
       "    </tr>\n",
       "    <tr>\n",
       "      <th>1</th>\n",
       "      <td>1</td>\n",
       "      <td>Aeromexico</td>\n",
       "      <td>1</td>\n",
       "      <td>\"Very disappointed\"</td>\n",
       "      <td>29th March 2025</td>\n",
       "      <td>True</td>\n",
       "      <td>Flew from Mexico City to Toronto March 2025...</td>\n",
       "      <td>NaN</td>\n",
       "      <td>NaN</td>\n",
       "      <td>Couple Leisure</td>\n",
       "      <td>...</td>\n",
       "      <td>Mexico city to Toronto</td>\n",
       "      <td>March 2025</td>\n",
       "      <td>1.0</td>\n",
       "      <td>3.0</td>\n",
       "      <td>1.0</td>\n",
       "      <td>5.0</td>\n",
       "      <td>3.0</td>\n",
       "      <td>NaN</td>\n",
       "      <td>2</td>\n",
       "      <td>no</td>\n",
       "    </tr>\n",
       "    <tr>\n",
       "      <th>2</th>\n",
       "      <td>2</td>\n",
       "      <td>Air Canada rouge</td>\n",
       "      <td>10</td>\n",
       "      <td>\"showing if the bathroom is occupied\"</td>\n",
       "      <td>29th March 2025</td>\n",
       "      <td>False</td>\n",
       "      <td>Flight was awesome. Staff was awesome. My is...</td>\n",
       "      <td>https://www.airlinequality.com/wp-content/uplo...</td>\n",
       "      <td>NaN</td>\n",
       "      <td>Couple Leisure</td>\n",
       "      <td>...</td>\n",
       "      <td>Toronto to Dominican Republic</td>\n",
       "      <td>March 2025</td>\n",
       "      <td>5.0</td>\n",
       "      <td>5.0</td>\n",
       "      <td>5.0</td>\n",
       "      <td>5.0</td>\n",
       "      <td>NaN</td>\n",
       "      <td>5.0</td>\n",
       "      <td>5</td>\n",
       "      <td>yes</td>\n",
       "    </tr>\n",
       "    <tr>\n",
       "      <th>3</th>\n",
       "      <td>3</td>\n",
       "      <td>Air India</td>\n",
       "      <td>1</td>\n",
       "      <td>\"can’t carry more than 15 kg\"</td>\n",
       "      <td>3rd April 2025</td>\n",
       "      <td>True</td>\n",
       "      <td>I spoke to Air India call center before boo...</td>\n",
       "      <td>NaN</td>\n",
       "      <td>NaN</td>\n",
       "      <td>Solo Leisure</td>\n",
       "      <td>...</td>\n",
       "      <td>Chandigarh to New Delhi</td>\n",
       "      <td>April 2025</td>\n",
       "      <td>NaN</td>\n",
       "      <td>NaN</td>\n",
       "      <td>NaN</td>\n",
       "      <td>1.0</td>\n",
       "      <td>NaN</td>\n",
       "      <td>NaN</td>\n",
       "      <td>1</td>\n",
       "      <td>no</td>\n",
       "    </tr>\n",
       "    <tr>\n",
       "      <th>4</th>\n",
       "      <td>4</td>\n",
       "      <td>Air Transat</td>\n",
       "      <td>2</td>\n",
       "      <td>\"insists that my carry-on is too big\"</td>\n",
       "      <td>31st March 2025</td>\n",
       "      <td>True</td>\n",
       "      <td>I had the most ridiculous experience on my ...</td>\n",
       "      <td>NaN</td>\n",
       "      <td>A330-200</td>\n",
       "      <td>Couple Leisure</td>\n",
       "      <td>...</td>\n",
       "      <td>Lisbon to Toronto</td>\n",
       "      <td>March 2025</td>\n",
       "      <td>2.0</td>\n",
       "      <td>3.0</td>\n",
       "      <td>2.0</td>\n",
       "      <td>1.0</td>\n",
       "      <td>NaN</td>\n",
       "      <td>NaN</td>\n",
       "      <td>2</td>\n",
       "      <td>no</td>\n",
       "    </tr>\n",
       "  </tbody>\n",
       "</table>\n",
       "<p>5 rows × 21 columns</p>\n",
       "</div>"
      ],
      "text/plain": [
       "   Unnamed: 0      Airline Name  Overall_Rating  \\\n",
       "0           0        Aeromexico               5   \n",
       "1           1        Aeromexico               1   \n",
       "2           2  Air Canada rouge              10   \n",
       "3           3         Air India               1   \n",
       "4           4       Air Transat               2   \n",
       "\n",
       "                            Review_Title      Review Date  Verified  \\\n",
       "0           \"Return flight had problems\"  30th March 2025      True   \n",
       "1                    \"Very disappointed\"  29th March 2025      True   \n",
       "2  \"showing if the bathroom is occupied\"  29th March 2025     False   \n",
       "3          \"can’t carry more than 15 kg\"   3rd April 2025      True   \n",
       "4  \"insists that my carry-on is too big\"  31st March 2025      True   \n",
       "\n",
       "                                              Review  \\\n",
       "0     I booked London - Mexico City - London Busi...   \n",
       "1     Flew from Mexico City to Toronto March 2025...   \n",
       "2    Flight was awesome. Staff was awesome. My is...   \n",
       "3     I spoke to Air India call center before boo...   \n",
       "4     I had the most ridiculous experience on my ...   \n",
       "\n",
       "                                Top Review Image Url    Aircraft  \\\n",
       "0                                                NaN  Boeing 787   \n",
       "1                                                NaN         NaN   \n",
       "2  https://www.airlinequality.com/wp-content/uplo...         NaN   \n",
       "3                                                NaN         NaN   \n",
       "4                                                NaN    A330-200   \n",
       "\n",
       "  Type Of Traveller  ...                          Route  Date Flown  \\\n",
       "0      Solo Leisure  ...          Mexico City to London  March 2025   \n",
       "1    Couple Leisure  ...         Mexico city to Toronto  March 2025   \n",
       "2    Couple Leisure  ...  Toronto to Dominican Republic  March 2025   \n",
       "3      Solo Leisure  ...        Chandigarh to New Delhi  April 2025   \n",
       "4    Couple Leisure  ...              Lisbon to Toronto  March 2025   \n",
       "\n",
       "  Seat Comfort  Cabin Staff Service  Food & Beverages  Ground Service  \\\n",
       "0          5.0                  4.0               3.0             1.0   \n",
       "1          1.0                  3.0               1.0             5.0   \n",
       "2          5.0                  5.0               5.0             5.0   \n",
       "3          NaN                  NaN               NaN             1.0   \n",
       "4          2.0                  3.0               2.0             1.0   \n",
       "\n",
       "   Inflight Entertainment  Wifi & Connectivity  Value For Money  Recommended  \n",
       "0                     2.0                  NaN                3           no  \n",
       "1                     3.0                  NaN                2           no  \n",
       "2                     NaN                  5.0                5          yes  \n",
       "3                     NaN                  NaN                1           no  \n",
       "4                     NaN                  NaN                2           no  \n",
       "\n",
       "[5 rows x 21 columns]"
      ]
     },
     "execution_count": 8,
     "metadata": {},
     "output_type": "execute_result"
    }
   ],
   "source": [
    "df_raw = pd.read_csv(f\"data/bronze_{ETL_DATE}_Airline_Reviews_withImageUrls.csv\")\n",
    "print(len(df_raw))\n",
    "df_raw.head()"
   ]
  },
  {
   "cell_type": "markdown",
   "id": "f8257102-5de8-422f-98aa-6f6ffd11bb62",
   "metadata": {},
   "source": [
    "#### Rename \"Unnamed: 0\" to \"RowId\""
   ]
  },
  {
   "cell_type": "code",
   "execution_count": 10,
   "id": "34cd0954-be66-4d5d-a7e6-572bf880ba3f",
   "metadata": {
    "execution": {
     "iopub.execute_input": "2025-04-03T13:05:51.965697Z",
     "iopub.status.busy": "2025-04-03T13:05:51.965613Z",
     "iopub.status.idle": "2025-04-03T13:05:51.968834Z",
     "shell.execute_reply": "2025-04-03T13:05:51.968587Z",
     "shell.execute_reply.started": "2025-04-03T13:05:51.965689Z"
    }
   },
   "outputs": [],
   "source": [
    "df = df_raw.copy()\n",
    "df.rename(columns={\"Unnamed: 0\": \"RowId\"}, inplace=True)"
   ]
  },
  {
   "cell_type": "markdown",
   "id": "7f193f65-25e1-47aa-bfcb-5826b265418d",
   "metadata": {},
   "source": [
    "#### Format and Convert Dates"
   ]
  },
  {
   "cell_type": "code",
   "execution_count": 12,
   "id": "04afd33a-0721-41d5-a7b0-960f5d824011",
   "metadata": {
    "execution": {
     "iopub.execute_input": "2025-04-03T13:05:51.977004Z",
     "iopub.status.busy": "2025-04-03T13:05:51.976906Z",
     "iopub.status.idle": "2025-04-03T13:05:51.993675Z",
     "shell.execute_reply": "2025-04-03T13:05:51.993446Z",
     "shell.execute_reply.started": "2025-04-03T13:05:51.976976Z"
    }
   },
   "outputs": [
    {
     "name": "stdout",
     "output_type": "stream",
     "text": [
      "59\n"
     ]
    },
    {
     "data": {
      "text/html": [
       "<div>\n",
       "<style scoped>\n",
       "    .dataframe tbody tr th:only-of-type {\n",
       "        vertical-align: middle;\n",
       "    }\n",
       "\n",
       "    .dataframe tbody tr th {\n",
       "        vertical-align: top;\n",
       "    }\n",
       "\n",
       "    .dataframe thead th {\n",
       "        text-align: right;\n",
       "    }\n",
       "</style>\n",
       "<table border=\"1\" class=\"dataframe\">\n",
       "  <thead>\n",
       "    <tr style=\"text-align: right;\">\n",
       "      <th></th>\n",
       "      <th>RowId</th>\n",
       "      <th>Airline Name</th>\n",
       "      <th>Overall_Rating</th>\n",
       "      <th>Review_Title</th>\n",
       "      <th>Review Date</th>\n",
       "      <th>Verified</th>\n",
       "      <th>Review</th>\n",
       "      <th>Top Review Image Url</th>\n",
       "      <th>Aircraft</th>\n",
       "      <th>Type Of Traveller</th>\n",
       "      <th>...</th>\n",
       "      <th>Route</th>\n",
       "      <th>Date Flown</th>\n",
       "      <th>Seat Comfort</th>\n",
       "      <th>Cabin Staff Service</th>\n",
       "      <th>Food &amp; Beverages</th>\n",
       "      <th>Ground Service</th>\n",
       "      <th>Inflight Entertainment</th>\n",
       "      <th>Wifi &amp; Connectivity</th>\n",
       "      <th>Value For Money</th>\n",
       "      <th>Recommended</th>\n",
       "    </tr>\n",
       "  </thead>\n",
       "  <tbody>\n",
       "    <tr>\n",
       "      <th>0</th>\n",
       "      <td>0</td>\n",
       "      <td>Aeromexico</td>\n",
       "      <td>5</td>\n",
       "      <td>\"Return flight had problems\"</td>\n",
       "      <td>2025-03-30</td>\n",
       "      <td>True</td>\n",
       "      <td>I booked London - Mexico City - London Busi...</td>\n",
       "      <td>NaN</td>\n",
       "      <td>Boeing 787</td>\n",
       "      <td>Solo Leisure</td>\n",
       "      <td>...</td>\n",
       "      <td>Mexico City to London</td>\n",
       "      <td>2025-03-01</td>\n",
       "      <td>5.0</td>\n",
       "      <td>4.0</td>\n",
       "      <td>3.0</td>\n",
       "      <td>1.0</td>\n",
       "      <td>2.0</td>\n",
       "      <td>NaN</td>\n",
       "      <td>3</td>\n",
       "      <td>no</td>\n",
       "    </tr>\n",
       "    <tr>\n",
       "      <th>1</th>\n",
       "      <td>1</td>\n",
       "      <td>Aeromexico</td>\n",
       "      <td>1</td>\n",
       "      <td>\"Very disappointed\"</td>\n",
       "      <td>2025-03-29</td>\n",
       "      <td>True</td>\n",
       "      <td>Flew from Mexico City to Toronto March 2025...</td>\n",
       "      <td>NaN</td>\n",
       "      <td>NaN</td>\n",
       "      <td>Couple Leisure</td>\n",
       "      <td>...</td>\n",
       "      <td>Mexico city to Toronto</td>\n",
       "      <td>2025-03-01</td>\n",
       "      <td>1.0</td>\n",
       "      <td>3.0</td>\n",
       "      <td>1.0</td>\n",
       "      <td>5.0</td>\n",
       "      <td>3.0</td>\n",
       "      <td>NaN</td>\n",
       "      <td>2</td>\n",
       "      <td>no</td>\n",
       "    </tr>\n",
       "    <tr>\n",
       "      <th>2</th>\n",
       "      <td>2</td>\n",
       "      <td>Air Canada rouge</td>\n",
       "      <td>10</td>\n",
       "      <td>\"showing if the bathroom is occupied\"</td>\n",
       "      <td>2025-03-29</td>\n",
       "      <td>False</td>\n",
       "      <td>Flight was awesome. Staff was awesome. My is...</td>\n",
       "      <td>https://www.airlinequality.com/wp-content/uplo...</td>\n",
       "      <td>NaN</td>\n",
       "      <td>Couple Leisure</td>\n",
       "      <td>...</td>\n",
       "      <td>Toronto to Dominican Republic</td>\n",
       "      <td>2025-03-01</td>\n",
       "      <td>5.0</td>\n",
       "      <td>5.0</td>\n",
       "      <td>5.0</td>\n",
       "      <td>5.0</td>\n",
       "      <td>NaN</td>\n",
       "      <td>5.0</td>\n",
       "      <td>5</td>\n",
       "      <td>yes</td>\n",
       "    </tr>\n",
       "    <tr>\n",
       "      <th>3</th>\n",
       "      <td>3</td>\n",
       "      <td>Air India</td>\n",
       "      <td>1</td>\n",
       "      <td>\"can’t carry more than 15 kg\"</td>\n",
       "      <td>2025-04-03</td>\n",
       "      <td>True</td>\n",
       "      <td>I spoke to Air India call center before boo...</td>\n",
       "      <td>NaN</td>\n",
       "      <td>NaN</td>\n",
       "      <td>Solo Leisure</td>\n",
       "      <td>...</td>\n",
       "      <td>Chandigarh to New Delhi</td>\n",
       "      <td>2025-04-01</td>\n",
       "      <td>NaN</td>\n",
       "      <td>NaN</td>\n",
       "      <td>NaN</td>\n",
       "      <td>1.0</td>\n",
       "      <td>NaN</td>\n",
       "      <td>NaN</td>\n",
       "      <td>1</td>\n",
       "      <td>no</td>\n",
       "    </tr>\n",
       "    <tr>\n",
       "      <th>4</th>\n",
       "      <td>4</td>\n",
       "      <td>Air Transat</td>\n",
       "      <td>2</td>\n",
       "      <td>\"insists that my carry-on is too big\"</td>\n",
       "      <td>2025-03-31</td>\n",
       "      <td>True</td>\n",
       "      <td>I had the most ridiculous experience on my ...</td>\n",
       "      <td>NaN</td>\n",
       "      <td>A330-200</td>\n",
       "      <td>Couple Leisure</td>\n",
       "      <td>...</td>\n",
       "      <td>Lisbon to Toronto</td>\n",
       "      <td>2025-03-01</td>\n",
       "      <td>2.0</td>\n",
       "      <td>3.0</td>\n",
       "      <td>2.0</td>\n",
       "      <td>1.0</td>\n",
       "      <td>NaN</td>\n",
       "      <td>NaN</td>\n",
       "      <td>2</td>\n",
       "      <td>no</td>\n",
       "    </tr>\n",
       "  </tbody>\n",
       "</table>\n",
       "<p>5 rows × 21 columns</p>\n",
       "</div>"
      ],
      "text/plain": [
       "   RowId      Airline Name  Overall_Rating  \\\n",
       "0      0        Aeromexico               5   \n",
       "1      1        Aeromexico               1   \n",
       "2      2  Air Canada rouge              10   \n",
       "3      3         Air India               1   \n",
       "4      4       Air Transat               2   \n",
       "\n",
       "                            Review_Title Review Date  Verified  \\\n",
       "0           \"Return flight had problems\"  2025-03-30      True   \n",
       "1                    \"Very disappointed\"  2025-03-29      True   \n",
       "2  \"showing if the bathroom is occupied\"  2025-03-29     False   \n",
       "3          \"can’t carry more than 15 kg\"  2025-04-03      True   \n",
       "4  \"insists that my carry-on is too big\"  2025-03-31      True   \n",
       "\n",
       "                                              Review  \\\n",
       "0     I booked London - Mexico City - London Busi...   \n",
       "1     Flew from Mexico City to Toronto March 2025...   \n",
       "2    Flight was awesome. Staff was awesome. My is...   \n",
       "3     I spoke to Air India call center before boo...   \n",
       "4     I had the most ridiculous experience on my ...   \n",
       "\n",
       "                                Top Review Image Url    Aircraft  \\\n",
       "0                                                NaN  Boeing 787   \n",
       "1                                                NaN         NaN   \n",
       "2  https://www.airlinequality.com/wp-content/uplo...         NaN   \n",
       "3                                                NaN         NaN   \n",
       "4                                                NaN    A330-200   \n",
       "\n",
       "  Type Of Traveller  ...                          Route Date Flown  \\\n",
       "0      Solo Leisure  ...          Mexico City to London 2025-03-01   \n",
       "1    Couple Leisure  ...         Mexico city to Toronto 2025-03-01   \n",
       "2    Couple Leisure  ...  Toronto to Dominican Republic 2025-03-01   \n",
       "3      Solo Leisure  ...        Chandigarh to New Delhi 2025-04-01   \n",
       "4    Couple Leisure  ...              Lisbon to Toronto 2025-03-01   \n",
       "\n",
       "  Seat Comfort  Cabin Staff Service  Food & Beverages  Ground Service  \\\n",
       "0          5.0                  4.0               3.0             1.0   \n",
       "1          1.0                  3.0               1.0             5.0   \n",
       "2          5.0                  5.0               5.0             5.0   \n",
       "3          NaN                  NaN               NaN             1.0   \n",
       "4          2.0                  3.0               2.0             1.0   \n",
       "\n",
       "   Inflight Entertainment  Wifi & Connectivity  Value For Money  Recommended  \n",
       "0                     2.0                  NaN                3           no  \n",
       "1                     3.0                  NaN                2           no  \n",
       "2                     NaN                  5.0                5          yes  \n",
       "3                     NaN                  NaN                1           no  \n",
       "4                     NaN                  NaN                2           no  \n",
       "\n",
       "[5 rows x 21 columns]"
      ]
     },
     "execution_count": 12,
     "metadata": {},
     "output_type": "execute_result"
    }
   ],
   "source": [
    "df['Review Date'] = pd.to_datetime(df['Review Date'], format=\"mixed\")\n",
    "df['Date Flown'] = pd.to_datetime(df['Date Flown'], format=\"mixed\")\n",
    "print(len(df))\n",
    "df.head()"
   ]
  },
  {
   "cell_type": "markdown",
   "id": "db53984f-ca5e-4653-a529-d28a965c3e40",
   "metadata": {},
   "source": [
    "#### EDA & Check for Nulls (especially for needed key fields)"
   ]
  },
  {
   "cell_type": "code",
   "execution_count": 14,
   "id": "edf51925-8348-4c31-afa8-95f470d1c48a",
   "metadata": {
    "execution": {
     "iopub.execute_input": "2025-04-03T13:05:52.000035Z",
     "iopub.status.busy": "2025-04-03T13:05:51.999964Z",
     "iopub.status.idle": "2025-04-03T13:05:52.006106Z",
     "shell.execute_reply": "2025-04-03T13:05:52.005901Z",
     "shell.execute_reply.started": "2025-04-03T13:05:52.000028Z"
    }
   },
   "outputs": [
    {
     "name": "stdout",
     "output_type": "stream",
     "text": [
      "<class 'pandas.core.frame.DataFrame'>\n",
      "RangeIndex: 59 entries, 0 to 58\n",
      "Data columns (total 21 columns):\n",
      " #   Column                  Non-Null Count  Dtype         \n",
      "---  ------                  --------------  -----         \n",
      " 0   RowId                   59 non-null     int64         \n",
      " 1   Airline Name            59 non-null     object        \n",
      " 2   Overall_Rating          59 non-null     int64         \n",
      " 3   Review_Title            59 non-null     object        \n",
      " 4   Review Date             59 non-null     datetime64[ns]\n",
      " 5   Verified                59 non-null     bool          \n",
      " 6   Review                  59 non-null     object        \n",
      " 7   Top Review Image Url    6 non-null      object        \n",
      " 8   Aircraft                16 non-null     object        \n",
      " 9   Type Of Traveller       59 non-null     object        \n",
      " 10  Seat Type               59 non-null     object        \n",
      " 11  Route                   59 non-null     object        \n",
      " 12  Date Flown              59 non-null     datetime64[ns]\n",
      " 13  Seat Comfort            54 non-null     float64       \n",
      " 14  Cabin Staff Service     54 non-null     float64       \n",
      " 15  Food & Beverages        44 non-null     float64       \n",
      " 16  Ground Service          57 non-null     float64       \n",
      " 17  Inflight Entertainment  34 non-null     float64       \n",
      " 18  Wifi & Connectivity     27 non-null     float64       \n",
      " 19  Value For Money         59 non-null     int64         \n",
      " 20  Recommended             59 non-null     object        \n",
      "dtypes: bool(1), datetime64[ns](2), float64(6), int64(3), object(9)\n",
      "memory usage: 9.4+ KB\n"
     ]
    }
   ],
   "source": [
    "# Examine nulls (first pass)\n",
    "df.info()"
   ]
  },
  {
   "cell_type": "code",
   "execution_count": 15,
   "id": "36e0445f-142b-4705-aa8b-811c80b07c9a",
   "metadata": {
    "execution": {
     "iopub.execute_input": "2025-04-03T13:05:52.006535Z",
     "iopub.status.busy": "2025-04-03T13:05:52.006469Z",
     "iopub.status.idle": "2025-04-03T13:05:52.009638Z",
     "shell.execute_reply": "2025-04-03T13:05:52.009388Z",
     "shell.execute_reply.started": "2025-04-03T13:05:52.006528Z"
    }
   },
   "outputs": [],
   "source": [
    "# Replace any empty string columns with actual nulls\n",
    "df = df.replace(r'^\\s+$', np.nan, regex=True)"
   ]
  },
  {
   "cell_type": "markdown",
   "id": "5f525a88-32ec-4b55-a824-1ba4042519ee",
   "metadata": {
    "execution": {
     "iopub.execute_input": "2025-03-28T17:13:05.281235Z",
     "iopub.status.busy": "2025-03-28T17:13:05.280591Z",
     "iopub.status.idle": "2025-03-28T17:13:05.285682Z",
     "shell.execute_reply": "2025-03-28T17:13:05.284663Z",
     "shell.execute_reply.started": "2025-03-28T17:13:05.281184Z"
    }
   },
   "source": [
    "#### Replace Overall_Rating 'n' with null, Cast as float"
   ]
  },
  {
   "cell_type": "code",
   "execution_count": 17,
   "id": "e17be6a5-9e17-49ba-9ab5-13ef78f6ec63",
   "metadata": {
    "execution": {
     "iopub.execute_input": "2025-04-03T13:05:52.015409Z",
     "iopub.status.busy": "2025-04-03T13:05:52.015349Z",
     "iopub.status.idle": "2025-04-03T13:05:52.017535Z",
     "shell.execute_reply": "2025-04-03T13:05:52.017379Z",
     "shell.execute_reply.started": "2025-04-03T13:05:52.015403Z"
    }
   },
   "outputs": [],
   "source": [
    "df[df['Overall_Rating'] == 'n']\n",
    "df['Overall_Rating'] = df['Overall_Rating'].replace('n', np.nan).astype(float)"
   ]
  },
  {
   "cell_type": "code",
   "execution_count": 18,
   "id": "7a992403-a662-41d4-8f6d-ad9641d52d34",
   "metadata": {
    "execution": {
     "iopub.execute_input": "2025-04-03T13:05:52.019332Z",
     "iopub.status.busy": "2025-04-03T13:05:52.019265Z",
     "iopub.status.idle": "2025-04-03T13:05:52.023383Z",
     "shell.execute_reply": "2025-04-03T13:05:52.023213Z",
     "shell.execute_reply.started": "2025-04-03T13:05:52.019325Z"
    }
   },
   "outputs": [
    {
     "data": {
      "text/html": [
       "<div>\n",
       "<style scoped>\n",
       "    .dataframe tbody tr th:only-of-type {\n",
       "        vertical-align: middle;\n",
       "    }\n",
       "\n",
       "    .dataframe tbody tr th {\n",
       "        vertical-align: top;\n",
       "    }\n",
       "\n",
       "    .dataframe thead th {\n",
       "        text-align: right;\n",
       "    }\n",
       "</style>\n",
       "<table border=\"1\" class=\"dataframe\">\n",
       "  <thead>\n",
       "    <tr style=\"text-align: right;\">\n",
       "      <th></th>\n",
       "      <th>RowId</th>\n",
       "      <th>Airline Name</th>\n",
       "      <th>Overall_Rating</th>\n",
       "      <th>Review_Title</th>\n",
       "      <th>Review Date</th>\n",
       "      <th>Verified</th>\n",
       "      <th>Review</th>\n",
       "      <th>Top Review Image Url</th>\n",
       "      <th>Aircraft</th>\n",
       "      <th>Type Of Traveller</th>\n",
       "      <th>...</th>\n",
       "      <th>Route</th>\n",
       "      <th>Date Flown</th>\n",
       "      <th>Seat Comfort</th>\n",
       "      <th>Cabin Staff Service</th>\n",
       "      <th>Food &amp; Beverages</th>\n",
       "      <th>Ground Service</th>\n",
       "      <th>Inflight Entertainment</th>\n",
       "      <th>Wifi &amp; Connectivity</th>\n",
       "      <th>Value For Money</th>\n",
       "      <th>Recommended</th>\n",
       "    </tr>\n",
       "  </thead>\n",
       "  <tbody>\n",
       "  </tbody>\n",
       "</table>\n",
       "<p>0 rows × 21 columns</p>\n",
       "</div>"
      ],
      "text/plain": [
       "Empty DataFrame\n",
       "Columns: [RowId, Airline Name, Overall_Rating, Review_Title, Review Date, Verified, Review, Top Review Image Url, Aircraft, Type Of Traveller, Seat Type, Route, Date Flown, Seat Comfort, Cabin Staff Service, Food & Beverages, Ground Service, Inflight Entertainment, Wifi & Connectivity, Value For Money, Recommended]\n",
       "Index: []\n",
       "\n",
       "[0 rows x 21 columns]"
      ]
     },
     "execution_count": 18,
     "metadata": {},
     "output_type": "execute_result"
    }
   ],
   "source": [
    "df[df['Overall_Rating'] == 'n']"
   ]
  },
  {
   "cell_type": "markdown",
   "id": "190c3f51-2c22-4563-a9ec-a905af95ea90",
   "metadata": {},
   "source": [
    "#### Add Unique Id"
   ]
  },
  {
   "cell_type": "code",
   "execution_count": 20,
   "id": "24d21c82-e617-4855-9c86-2380e1d56de3",
   "metadata": {
    "execution": {
     "iopub.execute_input": "2025-04-03T13:05:52.029524Z",
     "iopub.status.busy": "2025-04-03T13:05:52.029439Z",
     "iopub.status.idle": "2025-04-03T13:05:52.031353Z",
     "shell.execute_reply": "2025-04-03T13:05:52.031135Z",
     "shell.execute_reply.started": "2025-04-03T13:05:52.029517Z"
    }
   },
   "outputs": [],
   "source": [
    "def generate_hash(row):\n",
    "    value = f\"{row['Airline Name']}|{row['Review_Title']}|{row['Review Date']}\"\n",
    "    return hashlib.sha256(value.encode()).hexdigest()"
   ]
  },
  {
   "cell_type": "code",
   "execution_count": 21,
   "id": "5a082916-5437-4279-806a-1ac8b710e087",
   "metadata": {
    "execution": {
     "iopub.execute_input": "2025-04-03T13:05:52.031738Z",
     "iopub.status.busy": "2025-04-03T13:05:52.031680Z",
     "iopub.status.idle": "2025-04-03T13:05:52.034997Z",
     "shell.execute_reply": "2025-04-03T13:05:52.034780Z",
     "shell.execute_reply.started": "2025-04-03T13:05:52.031732Z"
    }
   },
   "outputs": [],
   "source": [
    "df['Id'] = df.apply(generate_hash, axis=1)"
   ]
  },
  {
   "cell_type": "code",
   "execution_count": 22,
   "id": "ce8e5f9f-ea5c-4078-a1b8-adbb554eda71",
   "metadata": {
    "execution": {
     "iopub.execute_input": "2025-04-03T13:05:52.035392Z",
     "iopub.status.busy": "2025-04-03T13:05:52.035332Z",
     "iopub.status.idle": "2025-04-03T13:05:52.038666Z",
     "shell.execute_reply": "2025-04-03T13:05:52.038470Z",
     "shell.execute_reply.started": "2025-04-03T13:05:52.035385Z"
    }
   },
   "outputs": [
    {
     "name": "stdout",
     "output_type": "stream",
     "text": [
      "<class 'pandas.core.frame.DataFrame'>\n",
      "RangeIndex: 59 entries, 0 to 58\n",
      "Data columns (total 22 columns):\n",
      " #   Column                  Non-Null Count  Dtype         \n",
      "---  ------                  --------------  -----         \n",
      " 0   RowId                   59 non-null     int64         \n",
      " 1   Airline Name            59 non-null     object        \n",
      " 2   Overall_Rating          59 non-null     float64       \n",
      " 3   Review_Title            59 non-null     object        \n",
      " 4   Review Date             59 non-null     datetime64[ns]\n",
      " 5   Verified                59 non-null     bool          \n",
      " 6   Review                  59 non-null     object        \n",
      " 7   Top Review Image Url    6 non-null      object        \n",
      " 8   Aircraft                16 non-null     object        \n",
      " 9   Type Of Traveller       59 non-null     object        \n",
      " 10  Seat Type               59 non-null     object        \n",
      " 11  Route                   59 non-null     object        \n",
      " 12  Date Flown              59 non-null     datetime64[ns]\n",
      " 13  Seat Comfort            54 non-null     float64       \n",
      " 14  Cabin Staff Service     54 non-null     float64       \n",
      " 15  Food & Beverages        44 non-null     float64       \n",
      " 16  Ground Service          57 non-null     float64       \n",
      " 17  Inflight Entertainment  34 non-null     float64       \n",
      " 18  Wifi & Connectivity     27 non-null     float64       \n",
      " 19  Value For Money         59 non-null     int64         \n",
      " 20  Recommended             59 non-null     object        \n",
      " 21  Id                      59 non-null     object        \n",
      "dtypes: bool(1), datetime64[ns](2), float64(7), int64(2), object(10)\n",
      "memory usage: 9.9+ KB\n"
     ]
    }
   ],
   "source": [
    "# Re-examine nulls (after converting empty string to nulls)\n",
    "df.info()"
   ]
  },
  {
   "cell_type": "markdown",
   "id": "e62a3281-0d1e-4f5c-8b63-ad693451bbf8",
   "metadata": {
    "execution": {
     "iopub.execute_input": "2025-03-25T04:36:39.410773Z",
     "iopub.status.busy": "2025-03-25T04:36:39.410081Z",
     "iopub.status.idle": "2025-03-25T04:36:39.419154Z",
     "shell.execute_reply": "2025-03-25T04:36:39.417766Z",
     "shell.execute_reply.started": "2025-03-25T04:36:39.410721Z"
    }
   },
   "source": [
    "Key columns needed do not have nulls"
   ]
  },
  {
   "cell_type": "markdown",
   "id": "6b3cdb80-30d2-4a9f-97a8-76fb45aba6b0",
   "metadata": {},
   "source": [
    "#### Persist to CSV file"
   ]
  },
  {
   "cell_type": "code",
   "execution_count": 25,
   "id": "d90631b1-e143-4529-9a9a-02f0c24ffbea",
   "metadata": {
    "execution": {
     "iopub.execute_input": "2025-04-03T13:05:52.049691Z",
     "iopub.status.busy": "2025-04-03T13:05:52.049630Z",
     "iopub.status.idle": "2025-04-03T13:05:52.053368Z",
     "shell.execute_reply": "2025-04-03T13:05:52.053155Z",
     "shell.execute_reply.started": "2025-04-03T13:05:52.049685Z"
    }
   },
   "outputs": [],
   "source": [
    "df.to_csv(f\"data/silver_{ETL_DATE}_Airline_Reviews_Preprocessed.csv\", index=False, date_format='%Y-%m-%d')"
   ]
  },
  {
   "cell_type": "code",
   "execution_count": null,
   "id": "5cbdabd9-9ee6-4402-9fb7-ca587987fb93",
   "metadata": {},
   "outputs": [],
   "source": []
  }
 ],
 "metadata": {
  "kernelspec": {
   "display_name": "Python [conda env:base] *",
   "language": "python",
   "name": "conda-base-py"
  },
  "language_info": {
   "codemirror_mode": {
    "name": "ipython",
    "version": 3
   },
   "file_extension": ".py",
   "mimetype": "text/x-python",
   "name": "python",
   "nbconvert_exporter": "python",
   "pygments_lexer": "ipython3",
   "version": "3.12.7"
  }
 },
 "nbformat": 4,
 "nbformat_minor": 5
}
